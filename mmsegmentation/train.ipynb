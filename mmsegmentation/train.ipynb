{
 "cells": [
  {
   "cell_type": "code",
   "execution_count": 3,
   "metadata": {},
   "outputs": [],
   "source": [
    "import sys, os\n",
    "from pathlib import Path\n",
    "ROOT_DIR = os.path.abspath(os.path.join(os.getcwd(), \"..\"))\n",
    "BASE_DIR = Path(ROOT_DIR) / \"mmsementaion\"\n",
    "sys.path.append(ROOT_DIR)\n",
    "sys.path.append(BASE_DIR)"
   ]
  },
  {
   "cell_type": "code",
   "execution_count": 4,
   "metadata": {},
   "outputs": [],
   "source": [
    "\n",
    "import os\n",
    "import cv2\n",
    "import numpy as np\n",
    "import pandas as pd\n",
    "from glob import glob\n",
    "from pathlib import Path\n",
    "from sklearn.model_selection import StratifiedKFold"
   ]
  },
  {
   "cell_type": "code",
   "execution_count": null,
   "metadata": {},
   "outputs": [],
   "source": [
    "INPUT_DIR = BASE_DIR / \"input\"\n",
    "OUTPUT_DIR = ROOT_DIR / \"working\"\n",
    "CONFIG_DIR = BASE_DIR / \"config\"\n",
    "\n",
    "COMPETITION_DATA_DIR = INPUT_DIR / \"hubmap-organ-segmentation\"\n",
    "\n",
    "TRAIN_PREPARED_CSV_PATH = \"train_prepared.csv\"\n",
    "VAL_PRED_PREPARED_CSV_PATH = \"val_pred_prepared.csv\"\n",
    "TEST_PREPARED_CSV_PATH = \"test_prepared.csv\"\n",
    "\n",
    "CONFIG_YAML_PATH = CONFIG_DIR / \"default.yaml\""
   ]
  }
 ],
 "metadata": {
  "kernelspec": {
   "display_name": "Python 3.8.13 ('HPA')",
   "language": "python",
   "name": "python3"
  },
  "language_info": {
   "codemirror_mode": {
    "name": "ipython",
    "version": 3
   },
   "file_extension": ".py",
   "mimetype": "text/x-python",
   "name": "python",
   "nbconvert_exporter": "python",
   "pygments_lexer": "ipython3",
   "version": "3.8.13"
  },
  "orig_nbformat": 4,
  "vscode": {
   "interpreter": {
    "hash": "31f85ff0a07dcd8188192325265d1046a734f55bf63b05ef3de74f27e2a18076"
   }
  }
 },
 "nbformat": 4,
 "nbformat_minor": 2
}
