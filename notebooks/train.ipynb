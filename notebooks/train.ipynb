{
 "cells": [
  {
   "cell_type": "code",
   "execution_count": 1,
   "metadata": {},
   "outputs": [],
   "source": [
    "import sys, os\n",
    "sys.path.append(\"/home/ziyang/kaggle/hubmap-organ-segmentation\")"
   ]
  },
  {
   "cell_type": "code",
   "execution_count": 2,
   "metadata": {},
   "outputs": [],
   "source": [
    "from pathlib import Path\n",
    "from typing import Any, Callable, Dict, Optional, Tuple\n",
    "\n",
    "import timm\n",
    "import torch\n",
    "import torch.nn as nn\n",
    "import pandas as pd\n",
    "\n",
    "import segmentation_models_pytorch as smp\n",
    "\n",
    "\n",
    "from sklearn.model_selection import StratifiedKFold\n",
    "from tqdm.notebook import tqdm"
   ]
  },
  {
   "cell_type": "code",
   "execution_count": 3,
   "metadata": {},
   "outputs": [
    {
     "name": "stderr",
     "output_type": "stream",
     "text": [
      "/home/ziyang/miniconda3/envs/HPA/lib/python3.8/site-packages/pl_bolts/utils/warnings.py:30: UserWarning: You want to use `gym` which is not installed yet, install it with `pip install gym`.\n",
      "  stdout_func(\n"
     ]
    }
   ],
   "source": [
    "import pytorch_lightning as pl\n",
    "from pytorch_lightning.callbacks.model_checkpoint import ModelCheckpoint\n",
    "from pytorch_lightning.loggers import WandbLogger\n",
    "from data import LitDataModule\n",
    "from model import LitModule\n",
    "\n",
    "def train(\n",
    "    cfg,\n",
    "    fold: int,\n",
    "    train_csv_path: str,\n",
    "    test_csv_path: str,\n",
    ") -> None:\n",
    "    pl.seed_everything(cfg.seed)\n",
    "\n",
    "    data_module = LitDataModule(\n",
    "        val_fold=fold,\n",
    "        train_csv_path=train_csv_path,\n",
    "        test_csv_path=test_csv_path,\n",
    "        spatial_size=cfg.data.spatial_size,\n",
    "        batch_size=cfg.data.batch_size,\n",
    "        num_workers=cfg.data.num_workers,\n",
    "    )\n",
    "\n",
    "    data_module.setup()\n",
    "\n",
    "    module = LitModule(cfg)\n",
    "\n",
    "    model_checkpoint = ModelCheckpoint(cfg.train.checkpoint_dir,\n",
    "                                        monitor=\"val_dice_th\",\n",
    "                                        mode=\"max\",\n",
    "                                        verbose=True,\n",
    "                                        filename=f\"{module.model.__class__.__name__}_{cfg.model.backbone}_{fold}\",\n",
    "                                        )\n",
    "\n",
    "    trainer = pl.Trainer(\n",
    "        default_root_dir=cfg.train.checkpoint_dir,\n",
    "        gpus=cfg.train.gpus,\n",
    "        benchmark=True,\n",
    "        deterministic=False,\n",
    "        callbacks=[model_checkpoint],\n",
    "        limit_train_batches=1.0,\n",
    "        limit_val_batches=1.0,\n",
    "        log_every_n_steps=5,\n",
    "        logger=WandbLogger(name=f\"{module.model.__class__.__name__}_{cfg.model.backbone}_{fold}\", project=cfg.logger.wandb.project) if cfg.logger.wandb.use == True else False,\n",
    "        max_epochs=cfg.train.epochs,\n",
    "        precision=cfg.train.precision,\n",
    "        accumulate_grad_batches=cfg.data.accumulate_grad_batches,\n",
    "    )\n",
    "\n",
    "    trainer.tune(module, datamodule=data_module)\n",
    "\n",
    "    trainer.fit(module, datamodule=data_module, ckpt_path=f\"/home/ziyang/kaggle/hubmap-organ-segmentation/notebooks/tmp/checkpoint/{module.model.__class__.__name__}_{cfg.model.backbone}_{fold}\"+\".ckpt\" if os.path.exists(f\"/home/ziyang/kaggle/hubmap-organ-segmentation/notebooks/tmp/checkpoint/{module.model.__class__.__name__}_{cfg.model.backbone}_{fold}\"+\".ckpt\") else None)\n",
    "    \n",
    "    return trainer"
   ]
  },
  {
   "cell_type": "code",
   "execution_count": 4,
   "metadata": {},
   "outputs": [],
   "source": [
    "KAGGLE_DIR = Path(\"/home/ziyang\") / \"kaggle\"\n",
    "BASE_DIR = KAGGLE_DIR / \"hubmap-organ-segmentation\"\n",
    "\n",
    "INPUT_DIR = BASE_DIR / \"input\"\n",
    "OUTPUT_DIR = BASE_DIR / \"working\"\n",
    "CONFIG_DIR = BASE_DIR / \"config\"\n",
    "\n",
    "COMPETITION_DATA_DIR = INPUT_DIR / \"hubmap-organ-segmentation\"\n",
    "\n",
    "TRAIN_PREPARED_CSV_PATH = \"train_prepared.csv\"\n",
    "VAL_PRED_PREPARED_CSV_PATH = \"val_pred_prepared.csv\"\n",
    "TEST_PREPARED_CSV_PATH = \"test_prepared.csv\"\n",
    "\n",
    "CONFIG_YAML_PATH = CONFIG_DIR / \"default.yaml\""
   ]
  },
  {
   "cell_type": "code",
   "execution_count": 5,
   "metadata": {},
   "outputs": [],
   "source": [
    "def add_path_to_df(df: pd.DataFrame, data_dir: Path, type_: str, stage: str) -> pd.DataFrame:\n",
    "    ending = \".tiff\" if type_ == \"image\" else \".npy\"\n",
    "    \n",
    "    dir_ = str(data_dir / f\"{stage}_{type_}s\") if type_ == \"image\" else f\"{stage}_{type_}s\"\n",
    "    df[type_] = dir_ + \"/\" + df[\"id\"].astype(str) + ending\n",
    "    return df\n",
    "\n",
    "\n",
    "def add_paths_to_df(df: pd.DataFrame, data_dir: Path, stage: str) -> pd.DataFrame:\n",
    "    df = add_path_to_df(df, data_dir, \"image\", stage)\n",
    "    df = add_path_to_df(df, data_dir, \"mask\", stage)\n",
    "    return df\n",
    "\n",
    "\n",
    "def create_folds(df: pd.DataFrame, n_splits: int, random_seed: int) -> pd.DataFrame:\n",
    "    skf = StratifiedKFold(n_splits=n_splits, shuffle=True, random_state=random_seed)\n",
    "    for fold, (_, val_idx) in enumerate(skf.split(X=df, y=df[\"organ\"])):\n",
    "        df.loc[val_idx, \"fold\"] = fold\n",
    "\n",
    "    return df\n",
    "\n",
    "\n",
    "def prepare_data(data_dir: Path, stage: str, n_splits: int, random_seed: int) -> None:\n",
    "    df = pd.read_csv(data_dir / f\"{stage}.csv\")\n",
    "    df = add_paths_to_df(df, data_dir, stage)\n",
    "\n",
    "    if stage == \"train\":\n",
    "        df = create_folds(df, n_splits, random_seed)\n",
    "\n",
    "    filename = f\"{stage}_prepared.csv\"\n",
    "    df.to_csv(filename, index=False)\n",
    "\n",
    "    print(f\"Created {filename} with shape {df.shape}\")\n",
    "\n",
    "    return df"
   ]
  },
  {
   "cell_type": "code",
   "execution_count": 6,
   "metadata": {},
   "outputs": [
    {
     "name": "stdout",
     "output_type": "stream",
     "text": [
      "Created train_prepared.csv with shape (351, 13)\n",
      "Created test_prepared.csv with shape (1, 9)\n"
     ]
    },
    {
     "data": {
      "text/html": [
       "<div>\n",
       "<style scoped>\n",
       "    .dataframe tbody tr th:only-of-type {\n",
       "        vertical-align: middle;\n",
       "    }\n",
       "\n",
       "    .dataframe tbody tr th {\n",
       "        vertical-align: top;\n",
       "    }\n",
       "\n",
       "    .dataframe thead th {\n",
       "        text-align: right;\n",
       "    }\n",
       "</style>\n",
       "<table border=\"1\" class=\"dataframe\">\n",
       "  <thead>\n",
       "    <tr style=\"text-align: right;\">\n",
       "      <th></th>\n",
       "      <th>id</th>\n",
       "      <th>organ</th>\n",
       "      <th>data_source</th>\n",
       "      <th>img_height</th>\n",
       "      <th>img_width</th>\n",
       "      <th>pixel_size</th>\n",
       "      <th>tissue_thickness</th>\n",
       "      <th>image</th>\n",
       "      <th>mask</th>\n",
       "    </tr>\n",
       "  </thead>\n",
       "  <tbody>\n",
       "    <tr>\n",
       "      <th>0</th>\n",
       "      <td>10078</td>\n",
       "      <td>spleen</td>\n",
       "      <td>Hubmap</td>\n",
       "      <td>2023</td>\n",
       "      <td>2023</td>\n",
       "      <td>0.4945</td>\n",
       "      <td>4</td>\n",
       "      <td>/home/ziyang/kaggle/hubmap-organ-segmentation/input/hubmap-organ-segmentation/test_images/10078.tiff</td>\n",
       "      <td>test_masks/10078.npy</td>\n",
       "    </tr>\n",
       "  </tbody>\n",
       "</table>\n",
       "</div>"
      ],
      "text/plain": [
       "      id   organ data_source  img_height  img_width  pixel_size  \\\n",
       "0  10078  spleen      Hubmap        2023       2023      0.4945   \n",
       "\n",
       "   tissue_thickness  \\\n",
       "0                 4   \n",
       "\n",
       "                                                                                                  image  \\\n",
       "0  /home/ziyang/kaggle/hubmap-organ-segmentation/input/hubmap-organ-segmentation/test_images/10078.tiff   \n",
       "\n",
       "                   mask  \n",
       "0  test_masks/10078.npy  "
      ]
     },
     "execution_count": 6,
     "metadata": {},
     "output_type": "execute_result"
    }
   ],
   "source": [
    "from utils import EasyConfig\n",
    "cfg = EasyConfig()\n",
    "cfg.load(CONFIG_YAML_PATH)\n",
    "\n",
    "cfg.data.train_csv_path = os.path.join(os.getcwd(), TRAIN_PREPARED_CSV_PATH)\n",
    "cfg.data.test_csv_path = os.path.join(os.getcwd(), TEST_PREPARED_CSV_PATH)\n",
    "\n",
    "cfg_train = cfg.train\n",
    "cfg_data = cfg.data\n",
    "cfg_model = cfg.model\n",
    "\n",
    "prepare_data(COMPETITION_DATA_DIR, \"train\", cfg_data.n_split, cfg.seed)\n",
    "prepare_data(COMPETITION_DATA_DIR, \"test\", cfg_data.n_split, cfg.seed)"
   ]
  },
  {
   "cell_type": "code",
   "execution_count": 7,
   "metadata": {},
   "outputs": [
    {
     "name": "stderr",
     "output_type": "stream",
     "text": [
      "Global seed set to 42\n",
      "Failed to detect the name of this notebook, you can set it manually with the WANDB_NOTEBOOK_NAME environment variable to enable code saving.\n",
      "\u001b[34m\u001b[1mwandb\u001b[0m: Currently logged in as: \u001b[33mziyangye\u001b[0m. Use \u001b[1m`wandb login --relogin`\u001b[0m to force relogin\n"
     ]
    },
    {
     "data": {
      "text/html": [
       "Tracking run with wandb version 0.12.21"
      ],
      "text/plain": [
       "<IPython.core.display.HTML object>"
      ]
     },
     "metadata": {},
     "output_type": "display_data"
    },
    {
     "data": {
      "text/html": [
       "Run data is saved locally in <code>/home/ziyang/kaggle/hubmap-organ-segmentation/notebooks/wandb/run-20220722_123924-4h4oywfy</code>"
      ],
      "text/plain": [
       "<IPython.core.display.HTML object>"
      ]
     },
     "metadata": {},
     "output_type": "display_data"
    },
    {
     "data": {
      "text/html": [
       "Syncing run <strong><a href=\"https://wandb.ai/ziyangye/hubmap-organ-segmentation/runs/4h4oywfy\" target=\"_blank\">UnetPlusPlus_with_ASPP_FPN_efficientnet-b7_0</a></strong> to <a href=\"https://wandb.ai/ziyangye/hubmap-organ-segmentation\" target=\"_blank\">Weights & Biases</a> (<a href=\"https://wandb.me/run\" target=\"_blank\">docs</a>)<br/>"
      ],
      "text/plain": [
       "<IPython.core.display.HTML object>"
      ]
     },
     "metadata": {},
     "output_type": "display_data"
    },
    {
     "name": "stderr",
     "output_type": "stream",
     "text": [
      "Using 16bit native Automatic Mixed Precision (AMP)\n",
      "GPU available: True, used: True\n",
      "TPU available: False, using: 0 TPU cores\n",
      "IPU available: False, using: 0 IPUs\n",
      "HPU available: False, using: 0 HPUs\n",
      "`Trainer(limit_train_batches=1.0)` was configured so 100% of the batches per epoch will be used..\n",
      "`Trainer(limit_val_batches=1.0)` was configured so 100% of the batches will be used..\n",
      "/home/ziyang/miniconda3/envs/HPA/lib/python3.8/site-packages/pytorch_lightning/callbacks/model_checkpoint.py:611: UserWarning: Checkpoint directory /home/ziyang/kaggle/hubmap-organ-segmentation/notebooks/tmp/checkpoint exists and is not empty.\n",
      "  rank_zero_warn(f\"Checkpoint directory {dirpath} exists and is not empty.\")\n",
      "LOCAL_RANK: 0 - CUDA_VISIBLE_DEVICES: [0]\n",
      "\n",
      "  | Name      | Type                       | Params\n",
      "---------------------------------------------------------\n",
      "0 | model     | UnetPlusPlus_with_ASPP_FPN | 85.0 M\n",
      "1 | loss_fn   | SymmetricLovaszLoss        | 0     \n",
      "2 | dice_soft | Dice_soft                  | 0     \n",
      "3 | dice_th   | Dice_threshold             | 0     \n",
      "---------------------------------------------------------\n",
      "85.0 M    Trainable params\n",
      "0         Non-trainable params\n",
      "85.0 M    Total params\n",
      "169.961   Total estimated model params size (MB)\n"
     ]
    },
    {
     "data": {
      "application/vnd.jupyter.widget-view+json": {
       "model_id": "fa2b355c920c401b939188c67b8b794a",
       "version_major": 2,
       "version_minor": 0
      },
      "text/plain": [
       "Sanity Checking: 0it [00:00, ?it/s]"
      ]
     },
     "metadata": {},
     "output_type": "display_data"
    },
    {
     "name": "stderr",
     "output_type": "stream",
     "text": [
      "/home/ziyang/miniconda3/envs/HPA/lib/python3.8/site-packages/pytorch_lightning/utilities/data.py:72: UserWarning: Trying to infer the `batch_size` from an ambiguous collection. The batch size we found is 8. To avoid any miscalculations, use `self.log(..., batch_size=batch_size)`.\n",
      "  warning_cache.warn(\n"
     ]
    },
    {
     "data": {
      "application/vnd.jupyter.widget-view+json": {
       "model_id": "29e11ecb931a4460b05f162b0c303f39",
       "version_major": 2,
       "version_minor": 0
      },
      "text/plain": [
       "Training: 0it [00:00, ?it/s]"
      ]
     },
     "metadata": {},
     "output_type": "display_data"
    },
    {
     "data": {
      "application/vnd.jupyter.widget-view+json": {
       "model_id": "9ebdc31768a74f13a2fb957283f6c76e",
       "version_major": 2,
       "version_minor": 0
      },
      "text/plain": [
       "Validation: 0it [00:00, ?it/s]"
      ]
     },
     "metadata": {},
     "output_type": "display_data"
    },
    {
     "name": "stderr",
     "output_type": "stream",
     "text": [
      "Epoch 0, global step 16: 'val_dice_th' reached 0.24851 (best 0.24851), saving model to '/home/ziyang/kaggle/hubmap-organ-segmentation/notebooks/tmp/checkpoint/UnetPlusPlus_with_ASPP_FPN_efficientnet-b7_0.ckpt' as top 1\n"
     ]
    },
    {
     "data": {
      "application/vnd.jupyter.widget-view+json": {
       "model_id": "a6ef366368cc49dfaa3607abe15e9266",
       "version_major": 2,
       "version_minor": 0
      },
      "text/plain": [
       "Validation: 0it [00:00, ?it/s]"
      ]
     },
     "metadata": {},
     "output_type": "display_data"
    },
    {
     "name": "stderr",
     "output_type": "stream",
     "text": [
      "Epoch 1, global step 32: 'val_dice_th' reached 0.27325 (best 0.27325), saving model to '/home/ziyang/kaggle/hubmap-organ-segmentation/notebooks/tmp/checkpoint/UnetPlusPlus_with_ASPP_FPN_efficientnet-b7_0.ckpt' as top 1\n"
     ]
    },
    {
     "data": {
      "application/vnd.jupyter.widget-view+json": {
       "model_id": "c8ba68df8b104c47b0489a00ef8e2772",
       "version_major": 2,
       "version_minor": 0
      },
      "text/plain": [
       "Validation: 0it [00:00, ?it/s]"
      ]
     },
     "metadata": {},
     "output_type": "display_data"
    },
    {
     "name": "stderr",
     "output_type": "stream",
     "text": [
      "Epoch 2, global step 48: 'val_dice_th' reached 0.29979 (best 0.29979), saving model to '/home/ziyang/kaggle/hubmap-organ-segmentation/notebooks/tmp/checkpoint/UnetPlusPlus_with_ASPP_FPN_efficientnet-b7_0.ckpt' as top 1\n"
     ]
    },
    {
     "data": {
      "application/vnd.jupyter.widget-view+json": {
       "model_id": "3b447a65d47147fd94c4bee475d1a397",
       "version_major": 2,
       "version_minor": 0
      },
      "text/plain": [
       "Validation: 0it [00:00, ?it/s]"
      ]
     },
     "metadata": {},
     "output_type": "display_data"
    },
    {
     "name": "stderr",
     "output_type": "stream",
     "text": [
      "Epoch 3, global step 64: 'val_dice_th' reached 0.33077 (best 0.33077), saving model to '/home/ziyang/kaggle/hubmap-organ-segmentation/notebooks/tmp/checkpoint/UnetPlusPlus_with_ASPP_FPN_efficientnet-b7_0.ckpt' as top 1\n"
     ]
    },
    {
     "data": {
      "application/vnd.jupyter.widget-view+json": {
       "model_id": "a8c58e754d12467db919be7591bb41d4",
       "version_major": 2,
       "version_minor": 0
      },
      "text/plain": [
       "Validation: 0it [00:00, ?it/s]"
      ]
     },
     "metadata": {},
     "output_type": "display_data"
    },
    {
     "name": "stderr",
     "output_type": "stream",
     "text": [
      "Epoch 4, global step 80: 'val_dice_th' reached 0.36643 (best 0.36643), saving model to '/home/ziyang/kaggle/hubmap-organ-segmentation/notebooks/tmp/checkpoint/UnetPlusPlus_with_ASPP_FPN_efficientnet-b7_0.ckpt' as top 1\n"
     ]
    },
    {
     "data": {
      "application/vnd.jupyter.widget-view+json": {
       "model_id": "5129e5bf5a7043b28e972cafc745923d",
       "version_major": 2,
       "version_minor": 0
      },
      "text/plain": [
       "Validation: 0it [00:00, ?it/s]"
      ]
     },
     "metadata": {},
     "output_type": "display_data"
    },
    {
     "name": "stderr",
     "output_type": "stream",
     "text": [
      "Epoch 5, global step 96: 'val_dice_th' reached 0.38305 (best 0.38305), saving model to '/home/ziyang/kaggle/hubmap-organ-segmentation/notebooks/tmp/checkpoint/UnetPlusPlus_with_ASPP_FPN_efficientnet-b7_0.ckpt' as top 1\n"
     ]
    },
    {
     "data": {
      "application/vnd.jupyter.widget-view+json": {
       "model_id": "daeb56489b7b49459c8c58118aa0182e",
       "version_major": 2,
       "version_minor": 0
      },
      "text/plain": [
       "Validation: 0it [00:00, ?it/s]"
      ]
     },
     "metadata": {},
     "output_type": "display_data"
    },
    {
     "name": "stderr",
     "output_type": "stream",
     "text": [
      "Epoch 6, global step 112: 'val_dice_th' reached 0.41278 (best 0.41278), saving model to '/home/ziyang/kaggle/hubmap-organ-segmentation/notebooks/tmp/checkpoint/UnetPlusPlus_with_ASPP_FPN_efficientnet-b7_0.ckpt' as top 1\n"
     ]
    },
    {
     "data": {
      "application/vnd.jupyter.widget-view+json": {
       "model_id": "279a01144f5a4764959c671bafb5b8c6",
       "version_major": 2,
       "version_minor": 0
      },
      "text/plain": [
       "Validation: 0it [00:00, ?it/s]"
      ]
     },
     "metadata": {},
     "output_type": "display_data"
    },
    {
     "name": "stderr",
     "output_type": "stream",
     "text": [
      "Epoch 7, global step 128: 'val_dice_th' reached 0.43521 (best 0.43521), saving model to '/home/ziyang/kaggle/hubmap-organ-segmentation/notebooks/tmp/checkpoint/UnetPlusPlus_with_ASPP_FPN_efficientnet-b7_0.ckpt' as top 1\n"
     ]
    },
    {
     "data": {
      "application/vnd.jupyter.widget-view+json": {
       "model_id": "51067d940c5042b9bf6712891cfad863",
       "version_major": 2,
       "version_minor": 0
      },
      "text/plain": [
       "Validation: 0it [00:00, ?it/s]"
      ]
     },
     "metadata": {},
     "output_type": "display_data"
    },
    {
     "name": "stderr",
     "output_type": "stream",
     "text": [
      "Epoch 8, global step 144: 'val_dice_th' reached 0.45153 (best 0.45153), saving model to '/home/ziyang/kaggle/hubmap-organ-segmentation/notebooks/tmp/checkpoint/UnetPlusPlus_with_ASPP_FPN_efficientnet-b7_0.ckpt' as top 1\n"
     ]
    },
    {
     "data": {
      "application/vnd.jupyter.widget-view+json": {
       "model_id": "14f9e5ef392d46bd8bf7d1da1d9f1395",
       "version_major": 2,
       "version_minor": 0
      },
      "text/plain": [
       "Validation: 0it [00:00, ?it/s]"
      ]
     },
     "metadata": {},
     "output_type": "display_data"
    },
    {
     "name": "stderr",
     "output_type": "stream",
     "text": [
      "Epoch 9, global step 160: 'val_dice_th' reached 0.46790 (best 0.46790), saving model to '/home/ziyang/kaggle/hubmap-organ-segmentation/notebooks/tmp/checkpoint/UnetPlusPlus_with_ASPP_FPN_efficientnet-b7_0.ckpt' as top 1\n"
     ]
    },
    {
     "data": {
      "application/vnd.jupyter.widget-view+json": {
       "model_id": "d823bd59bd25411c820576e238908ba7",
       "version_major": 2,
       "version_minor": 0
      },
      "text/plain": [
       "Validation: 0it [00:00, ?it/s]"
      ]
     },
     "metadata": {},
     "output_type": "display_data"
    },
    {
     "name": "stderr",
     "output_type": "stream",
     "text": [
      "Epoch 10, global step 176: 'val_dice_th' reached 0.48217 (best 0.48217), saving model to '/home/ziyang/kaggle/hubmap-organ-segmentation/notebooks/tmp/checkpoint/UnetPlusPlus_with_ASPP_FPN_efficientnet-b7_0.ckpt' as top 1\n"
     ]
    },
    {
     "data": {
      "application/vnd.jupyter.widget-view+json": {
       "model_id": "9f3d081710b547cdb3cf53718bc638e6",
       "version_major": 2,
       "version_minor": 0
      },
      "text/plain": [
       "Validation: 0it [00:00, ?it/s]"
      ]
     },
     "metadata": {},
     "output_type": "display_data"
    },
    {
     "name": "stderr",
     "output_type": "stream",
     "text": [
      "Epoch 11, global step 192: 'val_dice_th' reached 0.49689 (best 0.49689), saving model to '/home/ziyang/kaggle/hubmap-organ-segmentation/notebooks/tmp/checkpoint/UnetPlusPlus_with_ASPP_FPN_efficientnet-b7_0.ckpt' as top 1\n"
     ]
    },
    {
     "data": {
      "application/vnd.jupyter.widget-view+json": {
       "model_id": "4e2b32b9f819458c965079f7769d9360",
       "version_major": 2,
       "version_minor": 0
      },
      "text/plain": [
       "Validation: 0it [00:00, ?it/s]"
      ]
     },
     "metadata": {},
     "output_type": "display_data"
    },
    {
     "name": "stderr",
     "output_type": "stream",
     "text": [
      "Epoch 12, global step 208: 'val_dice_th' reached 0.51479 (best 0.51479), saving model to '/home/ziyang/kaggle/hubmap-organ-segmentation/notebooks/tmp/checkpoint/UnetPlusPlus_with_ASPP_FPN_efficientnet-b7_0.ckpt' as top 1\n"
     ]
    },
    {
     "data": {
      "application/vnd.jupyter.widget-view+json": {
       "model_id": "8f11660c9f7d4768b29fc5d891c6fa7f",
       "version_major": 2,
       "version_minor": 0
      },
      "text/plain": [
       "Validation: 0it [00:00, ?it/s]"
      ]
     },
     "metadata": {},
     "output_type": "display_data"
    },
    {
     "name": "stderr",
     "output_type": "stream",
     "text": [
      "Epoch 13, global step 224: 'val_dice_th' reached 0.53133 (best 0.53133), saving model to '/home/ziyang/kaggle/hubmap-organ-segmentation/notebooks/tmp/checkpoint/UnetPlusPlus_with_ASPP_FPN_efficientnet-b7_0.ckpt' as top 1\n"
     ]
    },
    {
     "data": {
      "application/vnd.jupyter.widget-view+json": {
       "model_id": "c3a799fa4a1445d5b10372f7eb6bdaa3",
       "version_major": 2,
       "version_minor": 0
      },
      "text/plain": [
       "Validation: 0it [00:00, ?it/s]"
      ]
     },
     "metadata": {},
     "output_type": "display_data"
    },
    {
     "name": "stderr",
     "output_type": "stream",
     "text": [
      "Epoch 14, global step 240: 'val_dice_th' reached 0.54751 (best 0.54751), saving model to '/home/ziyang/kaggle/hubmap-organ-segmentation/notebooks/tmp/checkpoint/UnetPlusPlus_with_ASPP_FPN_efficientnet-b7_0.ckpt' as top 1\n"
     ]
    },
    {
     "data": {
      "application/vnd.jupyter.widget-view+json": {
       "model_id": "89fa6b974569463cbf8e4f17aa3db376",
       "version_major": 2,
       "version_minor": 0
      },
      "text/plain": [
       "Validation: 0it [00:00, ?it/s]"
      ]
     },
     "metadata": {},
     "output_type": "display_data"
    },
    {
     "name": "stderr",
     "output_type": "stream",
     "text": [
      "Epoch 15, global step 256: 'val_dice_th' reached 0.56502 (best 0.56502), saving model to '/home/ziyang/kaggle/hubmap-organ-segmentation/notebooks/tmp/checkpoint/UnetPlusPlus_with_ASPP_FPN_efficientnet-b7_0.ckpt' as top 1\n"
     ]
    },
    {
     "data": {
      "application/vnd.jupyter.widget-view+json": {
       "model_id": "02ac694b627646cf8fe8ff66d9680d58",
       "version_major": 2,
       "version_minor": 0
      },
      "text/plain": [
       "Validation: 0it [00:00, ?it/s]"
      ]
     },
     "metadata": {},
     "output_type": "display_data"
    },
    {
     "name": "stderr",
     "output_type": "stream",
     "text": [
      "Epoch 16, global step 272: 'val_dice_th' reached 0.58279 (best 0.58279), saving model to '/home/ziyang/kaggle/hubmap-organ-segmentation/notebooks/tmp/checkpoint/UnetPlusPlus_with_ASPP_FPN_efficientnet-b7_0.ckpt' as top 1\n"
     ]
    },
    {
     "data": {
      "application/vnd.jupyter.widget-view+json": {
       "model_id": "6db90879e77f42c8b626cf09808abd69",
       "version_major": 2,
       "version_minor": 0
      },
      "text/plain": [
       "Validation: 0it [00:00, ?it/s]"
      ]
     },
     "metadata": {},
     "output_type": "display_data"
    },
    {
     "name": "stderr",
     "output_type": "stream",
     "text": [
      "Epoch 17, global step 288: 'val_dice_th' reached 0.59801 (best 0.59801), saving model to '/home/ziyang/kaggle/hubmap-organ-segmentation/notebooks/tmp/checkpoint/UnetPlusPlus_with_ASPP_FPN_efficientnet-b7_0.ckpt' as top 1\n"
     ]
    },
    {
     "data": {
      "application/vnd.jupyter.widget-view+json": {
       "model_id": "9c6384eae32c470da3c5186bfdf5145f",
       "version_major": 2,
       "version_minor": 0
      },
      "text/plain": [
       "Validation: 0it [00:00, ?it/s]"
      ]
     },
     "metadata": {},
     "output_type": "display_data"
    },
    {
     "name": "stderr",
     "output_type": "stream",
     "text": [
      "Epoch 18, global step 304: 'val_dice_th' reached 0.61043 (best 0.61043), saving model to '/home/ziyang/kaggle/hubmap-organ-segmentation/notebooks/tmp/checkpoint/UnetPlusPlus_with_ASPP_FPN_efficientnet-b7_0.ckpt' as top 1\n"
     ]
    },
    {
     "data": {
      "application/vnd.jupyter.widget-view+json": {
       "model_id": "c1e66c4c2d8f4052ac1d092e448a4047",
       "version_major": 2,
       "version_minor": 0
      },
      "text/plain": [
       "Validation: 0it [00:00, ?it/s]"
      ]
     },
     "metadata": {},
     "output_type": "display_data"
    },
    {
     "name": "stderr",
     "output_type": "stream",
     "text": [
      "Epoch 19, global step 320: 'val_dice_th' reached 0.62183 (best 0.62183), saving model to '/home/ziyang/kaggle/hubmap-organ-segmentation/notebooks/tmp/checkpoint/UnetPlusPlus_with_ASPP_FPN_efficientnet-b7_0.ckpt' as top 1\n"
     ]
    },
    {
     "data": {
      "application/vnd.jupyter.widget-view+json": {
       "model_id": "832f08d4eb364c4995d7db6551a07934",
       "version_major": 2,
       "version_minor": 0
      },
      "text/plain": [
       "Validation: 0it [00:00, ?it/s]"
      ]
     },
     "metadata": {},
     "output_type": "display_data"
    },
    {
     "name": "stderr",
     "output_type": "stream",
     "text": [
      "Epoch 20, global step 336: 'val_dice_th' reached 0.62996 (best 0.62996), saving model to '/home/ziyang/kaggle/hubmap-organ-segmentation/notebooks/tmp/checkpoint/UnetPlusPlus_with_ASPP_FPN_efficientnet-b7_0.ckpt' as top 1\n"
     ]
    },
    {
     "data": {
      "application/vnd.jupyter.widget-view+json": {
       "model_id": "545066b536ef43f0858ef15b62478a9d",
       "version_major": 2,
       "version_minor": 0
      },
      "text/plain": [
       "Validation: 0it [00:00, ?it/s]"
      ]
     },
     "metadata": {},
     "output_type": "display_data"
    },
    {
     "name": "stderr",
     "output_type": "stream",
     "text": [
      "Epoch 21, global step 352: 'val_dice_th' reached 0.64013 (best 0.64013), saving model to '/home/ziyang/kaggle/hubmap-organ-segmentation/notebooks/tmp/checkpoint/UnetPlusPlus_with_ASPP_FPN_efficientnet-b7_0.ckpt' as top 1\n"
     ]
    },
    {
     "data": {
      "application/vnd.jupyter.widget-view+json": {
       "model_id": "3111e837834441a88865edfeb8465e04",
       "version_major": 2,
       "version_minor": 0
      },
      "text/plain": [
       "Validation: 0it [00:00, ?it/s]"
      ]
     },
     "metadata": {},
     "output_type": "display_data"
    },
    {
     "name": "stderr",
     "output_type": "stream",
     "text": [
      "Epoch 22, global step 368: 'val_dice_th' reached 0.65175 (best 0.65175), saving model to '/home/ziyang/kaggle/hubmap-organ-segmentation/notebooks/tmp/checkpoint/UnetPlusPlus_with_ASPP_FPN_efficientnet-b7_0.ckpt' as top 1\n"
     ]
    },
    {
     "data": {
      "application/vnd.jupyter.widget-view+json": {
       "model_id": "78ff37dca1824b9d9d3a5606fb5db363",
       "version_major": 2,
       "version_minor": 0
      },
      "text/plain": [
       "Validation: 0it [00:00, ?it/s]"
      ]
     },
     "metadata": {},
     "output_type": "display_data"
    },
    {
     "name": "stderr",
     "output_type": "stream",
     "text": [
      "Epoch 23, global step 384: 'val_dice_th' reached 0.66142 (best 0.66142), saving model to '/home/ziyang/kaggle/hubmap-organ-segmentation/notebooks/tmp/checkpoint/UnetPlusPlus_with_ASPP_FPN_efficientnet-b7_0.ckpt' as top 1\n"
     ]
    },
    {
     "data": {
      "application/vnd.jupyter.widget-view+json": {
       "model_id": "ccb05db86b304cfcab840a52eaa912b5",
       "version_major": 2,
       "version_minor": 0
      },
      "text/plain": [
       "Validation: 0it [00:00, ?it/s]"
      ]
     },
     "metadata": {},
     "output_type": "display_data"
    },
    {
     "name": "stderr",
     "output_type": "stream",
     "text": [
      "Epoch 24, global step 400: 'val_dice_th' reached 0.66795 (best 0.66795), saving model to '/home/ziyang/kaggle/hubmap-organ-segmentation/notebooks/tmp/checkpoint/UnetPlusPlus_with_ASPP_FPN_efficientnet-b7_0.ckpt' as top 1\n"
     ]
    },
    {
     "data": {
      "application/vnd.jupyter.widget-view+json": {
       "model_id": "d2f58905701c4042a05b867a902e5772",
       "version_major": 2,
       "version_minor": 0
      },
      "text/plain": [
       "Validation: 0it [00:00, ?it/s]"
      ]
     },
     "metadata": {},
     "output_type": "display_data"
    },
    {
     "name": "stderr",
     "output_type": "stream",
     "text": [
      "Epoch 25, global step 416: 'val_dice_th' reached 0.67293 (best 0.67293), saving model to '/home/ziyang/kaggle/hubmap-organ-segmentation/notebooks/tmp/checkpoint/UnetPlusPlus_with_ASPP_FPN_efficientnet-b7_0.ckpt' as top 1\n"
     ]
    },
    {
     "data": {
      "application/vnd.jupyter.widget-view+json": {
       "model_id": "9088e34bcd754e3bb421f1908ffeaa72",
       "version_major": 2,
       "version_minor": 0
      },
      "text/plain": [
       "Validation: 0it [00:00, ?it/s]"
      ]
     },
     "metadata": {},
     "output_type": "display_data"
    },
    {
     "name": "stderr",
     "output_type": "stream",
     "text": [
      "Epoch 26, global step 432: 'val_dice_th' reached 0.68018 (best 0.68018), saving model to '/home/ziyang/kaggle/hubmap-organ-segmentation/notebooks/tmp/checkpoint/UnetPlusPlus_with_ASPP_FPN_efficientnet-b7_0.ckpt' as top 1\n"
     ]
    },
    {
     "data": {
      "application/vnd.jupyter.widget-view+json": {
       "model_id": "dcdf09717441477dad3e8643d2317002",
       "version_major": 2,
       "version_minor": 0
      },
      "text/plain": [
       "Validation: 0it [00:00, ?it/s]"
      ]
     },
     "metadata": {},
     "output_type": "display_data"
    },
    {
     "name": "stderr",
     "output_type": "stream",
     "text": [
      "Epoch 27, global step 448: 'val_dice_th' reached 0.68603 (best 0.68603), saving model to '/home/ziyang/kaggle/hubmap-organ-segmentation/notebooks/tmp/checkpoint/UnetPlusPlus_with_ASPP_FPN_efficientnet-b7_0.ckpt' as top 1\n"
     ]
    },
    {
     "data": {
      "application/vnd.jupyter.widget-view+json": {
       "model_id": "77c6a37591e24b0bb6944f3a67857ca9",
       "version_major": 2,
       "version_minor": 0
      },
      "text/plain": [
       "Validation: 0it [00:00, ?it/s]"
      ]
     },
     "metadata": {},
     "output_type": "display_data"
    },
    {
     "name": "stderr",
     "output_type": "stream",
     "text": [
      "Epoch 28, global step 464: 'val_dice_th' reached 0.68995 (best 0.68995), saving model to '/home/ziyang/kaggle/hubmap-organ-segmentation/notebooks/tmp/checkpoint/UnetPlusPlus_with_ASPP_FPN_efficientnet-b7_0.ckpt' as top 1\n"
     ]
    },
    {
     "data": {
      "application/vnd.jupyter.widget-view+json": {
       "model_id": "ab64dadb630f4cae9cc46a1704bdc5ff",
       "version_major": 2,
       "version_minor": 0
      },
      "text/plain": [
       "Validation: 0it [00:00, ?it/s]"
      ]
     },
     "metadata": {},
     "output_type": "display_data"
    },
    {
     "name": "stderr",
     "output_type": "stream",
     "text": [
      "Epoch 29, global step 480: 'val_dice_th' reached 0.69566 (best 0.69566), saving model to '/home/ziyang/kaggle/hubmap-organ-segmentation/notebooks/tmp/checkpoint/UnetPlusPlus_with_ASPP_FPN_efficientnet-b7_0.ckpt' as top 1\n"
     ]
    },
    {
     "data": {
      "application/vnd.jupyter.widget-view+json": {
       "model_id": "8c8fadd130b04c13b8c0ad8d4f42f972",
       "version_major": 2,
       "version_minor": 0
      },
      "text/plain": [
       "Validation: 0it [00:00, ?it/s]"
      ]
     },
     "metadata": {},
     "output_type": "display_data"
    },
    {
     "name": "stderr",
     "output_type": "stream",
     "text": [
      "Epoch 30, global step 496: 'val_dice_th' reached 0.69942 (best 0.69942), saving model to '/home/ziyang/kaggle/hubmap-organ-segmentation/notebooks/tmp/checkpoint/UnetPlusPlus_with_ASPP_FPN_efficientnet-b7_0.ckpt' as top 1\n"
     ]
    },
    {
     "data": {
      "application/vnd.jupyter.widget-view+json": {
       "model_id": "6dbabda9a40b45ff9b6583a4207200cd",
       "version_major": 2,
       "version_minor": 0
      },
      "text/plain": [
       "Validation: 0it [00:00, ?it/s]"
      ]
     },
     "metadata": {},
     "output_type": "display_data"
    },
    {
     "name": "stderr",
     "output_type": "stream",
     "text": [
      "Epoch 31, global step 512: 'val_dice_th' reached 0.70383 (best 0.70383), saving model to '/home/ziyang/kaggle/hubmap-organ-segmentation/notebooks/tmp/checkpoint/UnetPlusPlus_with_ASPP_FPN_efficientnet-b7_0.ckpt' as top 1\n"
     ]
    },
    {
     "data": {
      "application/vnd.jupyter.widget-view+json": {
       "model_id": "d378ac31e7aa4f949dff0cf358fe4ebe",
       "version_major": 2,
       "version_minor": 0
      },
      "text/plain": [
       "Validation: 0it [00:00, ?it/s]"
      ]
     },
     "metadata": {},
     "output_type": "display_data"
    },
    {
     "name": "stderr",
     "output_type": "stream",
     "text": [
      "Epoch 32, global step 528: 'val_dice_th' reached 0.70792 (best 0.70792), saving model to '/home/ziyang/kaggle/hubmap-organ-segmentation/notebooks/tmp/checkpoint/UnetPlusPlus_with_ASPP_FPN_efficientnet-b7_0.ckpt' as top 1\n"
     ]
    },
    {
     "data": {
      "application/vnd.jupyter.widget-view+json": {
       "model_id": "14f9a9d2c8d749b3a5c085b9f9176e14",
       "version_major": 2,
       "version_minor": 0
      },
      "text/plain": [
       "Validation: 0it [00:00, ?it/s]"
      ]
     },
     "metadata": {},
     "output_type": "display_data"
    },
    {
     "name": "stderr",
     "output_type": "stream",
     "text": [
      "Epoch 33, global step 544: 'val_dice_th' reached 0.71402 (best 0.71402), saving model to '/home/ziyang/kaggle/hubmap-organ-segmentation/notebooks/tmp/checkpoint/UnetPlusPlus_with_ASPP_FPN_efficientnet-b7_0.ckpt' as top 1\n"
     ]
    },
    {
     "data": {
      "application/vnd.jupyter.widget-view+json": {
       "model_id": "c8136422f9534c64902526ec0af59574",
       "version_major": 2,
       "version_minor": 0
      },
      "text/plain": [
       "Validation: 0it [00:00, ?it/s]"
      ]
     },
     "metadata": {},
     "output_type": "display_data"
    },
    {
     "name": "stderr",
     "output_type": "stream",
     "text": [
      "Epoch 34, global step 560: 'val_dice_th' reached 0.71763 (best 0.71763), saving model to '/home/ziyang/kaggle/hubmap-organ-segmentation/notebooks/tmp/checkpoint/UnetPlusPlus_with_ASPP_FPN_efficientnet-b7_0.ckpt' as top 1\n"
     ]
    },
    {
     "data": {
      "application/vnd.jupyter.widget-view+json": {
       "model_id": "8ef746cf0bc54bb38ff043a80775bb40",
       "version_major": 2,
       "version_minor": 0
      },
      "text/plain": [
       "Validation: 0it [00:00, ?it/s]"
      ]
     },
     "metadata": {},
     "output_type": "display_data"
    },
    {
     "name": "stderr",
     "output_type": "stream",
     "text": [
      "Epoch 35, global step 576: 'val_dice_th' reached 0.72028 (best 0.72028), saving model to '/home/ziyang/kaggle/hubmap-organ-segmentation/notebooks/tmp/checkpoint/UnetPlusPlus_with_ASPP_FPN_efficientnet-b7_0.ckpt' as top 1\n"
     ]
    },
    {
     "data": {
      "application/vnd.jupyter.widget-view+json": {
       "model_id": "19261e336c79464d89662b9070511fb7",
       "version_major": 2,
       "version_minor": 0
      },
      "text/plain": [
       "Validation: 0it [00:00, ?it/s]"
      ]
     },
     "metadata": {},
     "output_type": "display_data"
    },
    {
     "name": "stderr",
     "output_type": "stream",
     "text": [
      "Epoch 36, global step 592: 'val_dice_th' reached 0.72342 (best 0.72342), saving model to '/home/ziyang/kaggle/hubmap-organ-segmentation/notebooks/tmp/checkpoint/UnetPlusPlus_with_ASPP_FPN_efficientnet-b7_0.ckpt' as top 1\n"
     ]
    },
    {
     "data": {
      "application/vnd.jupyter.widget-view+json": {
       "model_id": "aea33352aeae437091227c04c5e83ad8",
       "version_major": 2,
       "version_minor": 0
      },
      "text/plain": [
       "Validation: 0it [00:00, ?it/s]"
      ]
     },
     "metadata": {},
     "output_type": "display_data"
    },
    {
     "name": "stderr",
     "output_type": "stream",
     "text": [
      "Epoch 37, global step 608: 'val_dice_th' reached 0.72545 (best 0.72545), saving model to '/home/ziyang/kaggle/hubmap-organ-segmentation/notebooks/tmp/checkpoint/UnetPlusPlus_with_ASPP_FPN_efficientnet-b7_0.ckpt' as top 1\n"
     ]
    },
    {
     "data": {
      "application/vnd.jupyter.widget-view+json": {
       "model_id": "4c080a99cd6c4b41b976a1460777b309",
       "version_major": 2,
       "version_minor": 0
      },
      "text/plain": [
       "Validation: 0it [00:00, ?it/s]"
      ]
     },
     "metadata": {},
     "output_type": "display_data"
    },
    {
     "name": "stderr",
     "output_type": "stream",
     "text": [
      "Epoch 38, global step 624: 'val_dice_th' reached 0.72962 (best 0.72962), saving model to '/home/ziyang/kaggle/hubmap-organ-segmentation/notebooks/tmp/checkpoint/UnetPlusPlus_with_ASPP_FPN_efficientnet-b7_0.ckpt' as top 1\n"
     ]
    },
    {
     "data": {
      "application/vnd.jupyter.widget-view+json": {
       "model_id": "3adbcaecfe1944d3a72fc593835de5d6",
       "version_major": 2,
       "version_minor": 0
      },
      "text/plain": [
       "Validation: 0it [00:00, ?it/s]"
      ]
     },
     "metadata": {},
     "output_type": "display_data"
    },
    {
     "name": "stderr",
     "output_type": "stream",
     "text": [
      "Epoch 39, global step 640: 'val_dice_th' reached 0.73206 (best 0.73206), saving model to '/home/ziyang/kaggle/hubmap-organ-segmentation/notebooks/tmp/checkpoint/UnetPlusPlus_with_ASPP_FPN_efficientnet-b7_0.ckpt' as top 1\n"
     ]
    },
    {
     "data": {
      "application/vnd.jupyter.widget-view+json": {
       "model_id": "3ff310b2719d4c33bb2dd84aed047593",
       "version_major": 2,
       "version_minor": 0
      },
      "text/plain": [
       "Validation: 0it [00:00, ?it/s]"
      ]
     },
     "metadata": {},
     "output_type": "display_data"
    },
    {
     "name": "stderr",
     "output_type": "stream",
     "text": [
      "Epoch 40, global step 656: 'val_dice_th' reached 0.73438 (best 0.73438), saving model to '/home/ziyang/kaggle/hubmap-organ-segmentation/notebooks/tmp/checkpoint/UnetPlusPlus_with_ASPP_FPN_efficientnet-b7_0.ckpt' as top 1\n"
     ]
    },
    {
     "data": {
      "application/vnd.jupyter.widget-view+json": {
       "model_id": "f4fbc8a867bf4225a8984a9959e2c240",
       "version_major": 2,
       "version_minor": 0
      },
      "text/plain": [
       "Validation: 0it [00:00, ?it/s]"
      ]
     },
     "metadata": {},
     "output_type": "display_data"
    },
    {
     "name": "stderr",
     "output_type": "stream",
     "text": [
      "Epoch 41, global step 672: 'val_dice_th' reached 0.73731 (best 0.73731), saving model to '/home/ziyang/kaggle/hubmap-organ-segmentation/notebooks/tmp/checkpoint/UnetPlusPlus_with_ASPP_FPN_efficientnet-b7_0.ckpt' as top 1\n"
     ]
    },
    {
     "data": {
      "application/vnd.jupyter.widget-view+json": {
       "model_id": "b90e55d168ef49f6b7a05fc0ae8cb973",
       "version_major": 2,
       "version_minor": 0
      },
      "text/plain": [
       "Validation: 0it [00:00, ?it/s]"
      ]
     },
     "metadata": {},
     "output_type": "display_data"
    },
    {
     "name": "stderr",
     "output_type": "stream",
     "text": [
      "Epoch 42, global step 688: 'val_dice_th' reached 0.74058 (best 0.74058), saving model to '/home/ziyang/kaggle/hubmap-organ-segmentation/notebooks/tmp/checkpoint/UnetPlusPlus_with_ASPP_FPN_efficientnet-b7_0.ckpt' as top 1\n"
     ]
    },
    {
     "data": {
      "application/vnd.jupyter.widget-view+json": {
       "model_id": "5f1265f4dd564b8a8891a7af77e6e85f",
       "version_major": 2,
       "version_minor": 0
      },
      "text/plain": [
       "Validation: 0it [00:00, ?it/s]"
      ]
     },
     "metadata": {},
     "output_type": "display_data"
    },
    {
     "name": "stderr",
     "output_type": "stream",
     "text": [
      "Epoch 43, global step 704: 'val_dice_th' reached 0.74392 (best 0.74392), saving model to '/home/ziyang/kaggle/hubmap-organ-segmentation/notebooks/tmp/checkpoint/UnetPlusPlus_with_ASPP_FPN_efficientnet-b7_0.ckpt' as top 1\n"
     ]
    },
    {
     "data": {
      "application/vnd.jupyter.widget-view+json": {
       "model_id": "7f071a8d079440e2ad5f67ea0ec938d1",
       "version_major": 2,
       "version_minor": 0
      },
      "text/plain": [
       "Validation: 0it [00:00, ?it/s]"
      ]
     },
     "metadata": {},
     "output_type": "display_data"
    },
    {
     "name": "stderr",
     "output_type": "stream",
     "text": [
      "Epoch 44, global step 720: 'val_dice_th' reached 0.74667 (best 0.74667), saving model to '/home/ziyang/kaggle/hubmap-organ-segmentation/notebooks/tmp/checkpoint/UnetPlusPlus_with_ASPP_FPN_efficientnet-b7_0.ckpt' as top 1\n"
     ]
    },
    {
     "data": {
      "application/vnd.jupyter.widget-view+json": {
       "model_id": "5a3cdba2ec204cd8bf87acb7c6095c88",
       "version_major": 2,
       "version_minor": 0
      },
      "text/plain": [
       "Validation: 0it [00:00, ?it/s]"
      ]
     },
     "metadata": {},
     "output_type": "display_data"
    },
    {
     "name": "stderr",
     "output_type": "stream",
     "text": [
      "Epoch 45, global step 736: 'val_dice_th' reached 0.74999 (best 0.74999), saving model to '/home/ziyang/kaggle/hubmap-organ-segmentation/notebooks/tmp/checkpoint/UnetPlusPlus_with_ASPP_FPN_efficientnet-b7_0.ckpt' as top 1\n"
     ]
    },
    {
     "data": {
      "application/vnd.jupyter.widget-view+json": {
       "model_id": "1a8d793d4638410f829b7ad0de1babf3",
       "version_major": 2,
       "version_minor": 0
      },
      "text/plain": [
       "Validation: 0it [00:00, ?it/s]"
      ]
     },
     "metadata": {},
     "output_type": "display_data"
    },
    {
     "name": "stderr",
     "output_type": "stream",
     "text": [
      "Epoch 46, global step 752: 'val_dice_th' reached 0.75213 (best 0.75213), saving model to '/home/ziyang/kaggle/hubmap-organ-segmentation/notebooks/tmp/checkpoint/UnetPlusPlus_with_ASPP_FPN_efficientnet-b7_0.ckpt' as top 1\n"
     ]
    },
    {
     "data": {
      "application/vnd.jupyter.widget-view+json": {
       "model_id": "c2aa6930f6d34f569524c138dab01d91",
       "version_major": 2,
       "version_minor": 0
      },
      "text/plain": [
       "Validation: 0it [00:00, ?it/s]"
      ]
     },
     "metadata": {},
     "output_type": "display_data"
    },
    {
     "name": "stderr",
     "output_type": "stream",
     "text": [
      "Epoch 47, global step 768: 'val_dice_th' reached 0.75493 (best 0.75493), saving model to '/home/ziyang/kaggle/hubmap-organ-segmentation/notebooks/tmp/checkpoint/UnetPlusPlus_with_ASPP_FPN_efficientnet-b7_0.ckpt' as top 1\n"
     ]
    },
    {
     "data": {
      "application/vnd.jupyter.widget-view+json": {
       "model_id": "764bfc6e2852416693066dbc9d0d08f0",
       "version_major": 2,
       "version_minor": 0
      },
      "text/plain": [
       "Validation: 0it [00:00, ?it/s]"
      ]
     },
     "metadata": {},
     "output_type": "display_data"
    },
    {
     "name": "stderr",
     "output_type": "stream",
     "text": [
      "Epoch 48, global step 784: 'val_dice_th' reached 0.75773 (best 0.75773), saving model to '/home/ziyang/kaggle/hubmap-organ-segmentation/notebooks/tmp/checkpoint/UnetPlusPlus_with_ASPP_FPN_efficientnet-b7_0.ckpt' as top 1\n"
     ]
    },
    {
     "data": {
      "application/vnd.jupyter.widget-view+json": {
       "model_id": "bc0f0274a3e140669fd1cf3e20eb9e76",
       "version_major": 2,
       "version_minor": 0
      },
      "text/plain": [
       "Validation: 0it [00:00, ?it/s]"
      ]
     },
     "metadata": {},
     "output_type": "display_data"
    },
    {
     "name": "stderr",
     "output_type": "stream",
     "text": [
      "Epoch 49, global step 800: 'val_dice_th' reached 0.75991 (best 0.75991), saving model to '/home/ziyang/kaggle/hubmap-organ-segmentation/notebooks/tmp/checkpoint/UnetPlusPlus_with_ASPP_FPN_efficientnet-b7_0.ckpt' as top 1\n"
     ]
    },
    {
     "data": {
      "application/vnd.jupyter.widget-view+json": {
       "model_id": "bde46c5d081c4984a4ec993c39699743",
       "version_major": 2,
       "version_minor": 0
      },
      "text/plain": [
       "Validation: 0it [00:00, ?it/s]"
      ]
     },
     "metadata": {},
     "output_type": "display_data"
    },
    {
     "name": "stderr",
     "output_type": "stream",
     "text": [
      "Epoch 50, global step 816: 'val_dice_th' reached 0.76012 (best 0.76012), saving model to '/home/ziyang/kaggle/hubmap-organ-segmentation/notebooks/tmp/checkpoint/UnetPlusPlus_with_ASPP_FPN_efficientnet-b7_0.ckpt' as top 1\n"
     ]
    },
    {
     "data": {
      "application/vnd.jupyter.widget-view+json": {
       "model_id": "81c5a4602b984003832394df34ceac4d",
       "version_major": 2,
       "version_minor": 0
      },
      "text/plain": [
       "Validation: 0it [00:00, ?it/s]"
      ]
     },
     "metadata": {},
     "output_type": "display_data"
    },
    {
     "name": "stderr",
     "output_type": "stream",
     "text": [
      "Epoch 51, global step 832: 'val_dice_th' reached 0.76105 (best 0.76105), saving model to '/home/ziyang/kaggle/hubmap-organ-segmentation/notebooks/tmp/checkpoint/UnetPlusPlus_with_ASPP_FPN_efficientnet-b7_0.ckpt' as top 1\n"
     ]
    },
    {
     "data": {
      "application/vnd.jupyter.widget-view+json": {
       "model_id": "466d0184f6c64c57ba5f987fa61ea27c",
       "version_major": 2,
       "version_minor": 0
      },
      "text/plain": [
       "Validation: 0it [00:00, ?it/s]"
      ]
     },
     "metadata": {},
     "output_type": "display_data"
    },
    {
     "name": "stderr",
     "output_type": "stream",
     "text": [
      "Epoch 52, global step 848: 'val_dice_th' reached 0.76284 (best 0.76284), saving model to '/home/ziyang/kaggle/hubmap-organ-segmentation/notebooks/tmp/checkpoint/UnetPlusPlus_with_ASPP_FPN_efficientnet-b7_0.ckpt' as top 1\n"
     ]
    },
    {
     "data": {
      "application/vnd.jupyter.widget-view+json": {
       "model_id": "a4c52ceada3d4f358ba8a3f99d953538",
       "version_major": 2,
       "version_minor": 0
      },
      "text/plain": [
       "Validation: 0it [00:00, ?it/s]"
      ]
     },
     "metadata": {},
     "output_type": "display_data"
    },
    {
     "name": "stderr",
     "output_type": "stream",
     "text": [
      "Epoch 53, global step 864: 'val_dice_th' reached 0.76316 (best 0.76316), saving model to '/home/ziyang/kaggle/hubmap-organ-segmentation/notebooks/tmp/checkpoint/UnetPlusPlus_with_ASPP_FPN_efficientnet-b7_0.ckpt' as top 1\n"
     ]
    },
    {
     "data": {
      "application/vnd.jupyter.widget-view+json": {
       "model_id": "eb7c475f5ded426e86975cb82bfa1292",
       "version_major": 2,
       "version_minor": 0
      },
      "text/plain": [
       "Validation: 0it [00:00, ?it/s]"
      ]
     },
     "metadata": {},
     "output_type": "display_data"
    },
    {
     "name": "stderr",
     "output_type": "stream",
     "text": [
      "Epoch 54, global step 880: 'val_dice_th' reached 0.76512 (best 0.76512), saving model to '/home/ziyang/kaggle/hubmap-organ-segmentation/notebooks/tmp/checkpoint/UnetPlusPlus_with_ASPP_FPN_efficientnet-b7_0.ckpt' as top 1\n"
     ]
    },
    {
     "data": {
      "application/vnd.jupyter.widget-view+json": {
       "model_id": "adf5367f39334ce4927e3f45c6c1189f",
       "version_major": 2,
       "version_minor": 0
      },
      "text/plain": [
       "Validation: 0it [00:00, ?it/s]"
      ]
     },
     "metadata": {},
     "output_type": "display_data"
    },
    {
     "name": "stderr",
     "output_type": "stream",
     "text": [
      "Epoch 55, global step 896: 'val_dice_th' reached 0.76614 (best 0.76614), saving model to '/home/ziyang/kaggle/hubmap-organ-segmentation/notebooks/tmp/checkpoint/UnetPlusPlus_with_ASPP_FPN_efficientnet-b7_0.ckpt' as top 1\n"
     ]
    },
    {
     "data": {
      "application/vnd.jupyter.widget-view+json": {
       "model_id": "2ab6ec63506345aabc288cce679f5bfe",
       "version_major": 2,
       "version_minor": 0
      },
      "text/plain": [
       "Validation: 0it [00:00, ?it/s]"
      ]
     },
     "metadata": {},
     "output_type": "display_data"
    },
    {
     "name": "stderr",
     "output_type": "stream",
     "text": [
      "Epoch 56, global step 912: 'val_dice_th' reached 0.76803 (best 0.76803), saving model to '/home/ziyang/kaggle/hubmap-organ-segmentation/notebooks/tmp/checkpoint/UnetPlusPlus_with_ASPP_FPN_efficientnet-b7_0.ckpt' as top 1\n"
     ]
    },
    {
     "data": {
      "application/vnd.jupyter.widget-view+json": {
       "model_id": "3d03ec26df16468e9804c08c1718d776",
       "version_major": 2,
       "version_minor": 0
      },
      "text/plain": [
       "Validation: 0it [00:00, ?it/s]"
      ]
     },
     "metadata": {},
     "output_type": "display_data"
    },
    {
     "name": "stderr",
     "output_type": "stream",
     "text": [
      "Epoch 57, global step 928: 'val_dice_th' reached 0.76855 (best 0.76855), saving model to '/home/ziyang/kaggle/hubmap-organ-segmentation/notebooks/tmp/checkpoint/UnetPlusPlus_with_ASPP_FPN_efficientnet-b7_0.ckpt' as top 1\n"
     ]
    },
    {
     "data": {
      "application/vnd.jupyter.widget-view+json": {
       "model_id": "b70a1a122bb44215ad279b479dd6c9ec",
       "version_major": 2,
       "version_minor": 0
      },
      "text/plain": [
       "Validation: 0it [00:00, ?it/s]"
      ]
     },
     "metadata": {},
     "output_type": "display_data"
    },
    {
     "name": "stderr",
     "output_type": "stream",
     "text": [
      "Epoch 58, global step 944: 'val_dice_th' reached 0.76955 (best 0.76955), saving model to '/home/ziyang/kaggle/hubmap-organ-segmentation/notebooks/tmp/checkpoint/UnetPlusPlus_with_ASPP_FPN_efficientnet-b7_0.ckpt' as top 1\n"
     ]
    },
    {
     "data": {
      "application/vnd.jupyter.widget-view+json": {
       "model_id": "a78e94be6db24bf7816ef536499b0243",
       "version_major": 2,
       "version_minor": 0
      },
      "text/plain": [
       "Validation: 0it [00:00, ?it/s]"
      ]
     },
     "metadata": {},
     "output_type": "display_data"
    },
    {
     "name": "stderr",
     "output_type": "stream",
     "text": [
      "Epoch 59, global step 960: 'val_dice_th' reached 0.76979 (best 0.76979), saving model to '/home/ziyang/kaggle/hubmap-organ-segmentation/notebooks/tmp/checkpoint/UnetPlusPlus_with_ASPP_FPN_efficientnet-b7_0.ckpt' as top 1\n"
     ]
    },
    {
     "data": {
      "application/vnd.jupyter.widget-view+json": {
       "model_id": "36cd8d5fbb1047de912b5d8a9801cb88",
       "version_major": 2,
       "version_minor": 0
      },
      "text/plain": [
       "Validation: 0it [00:00, ?it/s]"
      ]
     },
     "metadata": {},
     "output_type": "display_data"
    },
    {
     "name": "stderr",
     "output_type": "stream",
     "text": [
      "Epoch 60, global step 976: 'val_dice_th' reached 0.77040 (best 0.77040), saving model to '/home/ziyang/kaggle/hubmap-organ-segmentation/notebooks/tmp/checkpoint/UnetPlusPlus_with_ASPP_FPN_efficientnet-b7_0.ckpt' as top 1\n"
     ]
    },
    {
     "data": {
      "application/vnd.jupyter.widget-view+json": {
       "model_id": "cb090d0e8c5b48bb9e16ab9bd653f2e9",
       "version_major": 2,
       "version_minor": 0
      },
      "text/plain": [
       "Validation: 0it [00:00, ?it/s]"
      ]
     },
     "metadata": {},
     "output_type": "display_data"
    },
    {
     "name": "stderr",
     "output_type": "stream",
     "text": [
      "Epoch 61, global step 992: 'val_dice_th' reached 0.77162 (best 0.77162), saving model to '/home/ziyang/kaggle/hubmap-organ-segmentation/notebooks/tmp/checkpoint/UnetPlusPlus_with_ASPP_FPN_efficientnet-b7_0.ckpt' as top 1\n"
     ]
    },
    {
     "data": {
      "application/vnd.jupyter.widget-view+json": {
       "model_id": "b7d88af1880f492c9579176e28fbdd5b",
       "version_major": 2,
       "version_minor": 0
      },
      "text/plain": [
       "Validation: 0it [00:00, ?it/s]"
      ]
     },
     "metadata": {},
     "output_type": "display_data"
    },
    {
     "name": "stderr",
     "output_type": "stream",
     "text": [
      "Epoch 62, global step 1008: 'val_dice_th' reached 0.77284 (best 0.77284), saving model to '/home/ziyang/kaggle/hubmap-organ-segmentation/notebooks/tmp/checkpoint/UnetPlusPlus_with_ASPP_FPN_efficientnet-b7_0.ckpt' as top 1\n"
     ]
    },
    {
     "data": {
      "application/vnd.jupyter.widget-view+json": {
       "model_id": "2ff83742e2ca4699beeea6bc50139164",
       "version_major": 2,
       "version_minor": 0
      },
      "text/plain": [
       "Validation: 0it [00:00, ?it/s]"
      ]
     },
     "metadata": {},
     "output_type": "display_data"
    },
    {
     "name": "stderr",
     "output_type": "stream",
     "text": [
      "Epoch 63, global step 1024: 'val_dice_th' reached 0.77426 (best 0.77426), saving model to '/home/ziyang/kaggle/hubmap-organ-segmentation/notebooks/tmp/checkpoint/UnetPlusPlus_with_ASPP_FPN_efficientnet-b7_0.ckpt' as top 1\n"
     ]
    },
    {
     "data": {
      "application/vnd.jupyter.widget-view+json": {
       "model_id": "2e087e1b19924597b060738e15b8d6c1",
       "version_major": 2,
       "version_minor": 0
      },
      "text/plain": [
       "Validation: 0it [00:00, ?it/s]"
      ]
     },
     "metadata": {},
     "output_type": "display_data"
    },
    {
     "name": "stderr",
     "output_type": "stream",
     "text": [
      "Epoch 64, global step 1040: 'val_dice_th' reached 0.77516 (best 0.77516), saving model to '/home/ziyang/kaggle/hubmap-organ-segmentation/notebooks/tmp/checkpoint/UnetPlusPlus_with_ASPP_FPN_efficientnet-b7_0.ckpt' as top 1\n"
     ]
    },
    {
     "data": {
      "application/vnd.jupyter.widget-view+json": {
       "model_id": "db434d6227ee4856a7738379440ac62c",
       "version_major": 2,
       "version_minor": 0
      },
      "text/plain": [
       "Validation: 0it [00:00, ?it/s]"
      ]
     },
     "metadata": {},
     "output_type": "display_data"
    },
    {
     "name": "stderr",
     "output_type": "stream",
     "text": [
      "Epoch 65, global step 1056: 'val_dice_th' reached 0.77540 (best 0.77540), saving model to '/home/ziyang/kaggle/hubmap-organ-segmentation/notebooks/tmp/checkpoint/UnetPlusPlus_with_ASPP_FPN_efficientnet-b7_0.ckpt' as top 1\n"
     ]
    },
    {
     "data": {
      "application/vnd.jupyter.widget-view+json": {
       "model_id": "391fd25a13c24167bd6ecc9f214e7cb3",
       "version_major": 2,
       "version_minor": 0
      },
      "text/plain": [
       "Validation: 0it [00:00, ?it/s]"
      ]
     },
     "metadata": {},
     "output_type": "display_data"
    },
    {
     "name": "stderr",
     "output_type": "stream",
     "text": [
      "Epoch 66, global step 1072: 'val_dice_th' reached 0.77607 (best 0.77607), saving model to '/home/ziyang/kaggle/hubmap-organ-segmentation/notebooks/tmp/checkpoint/UnetPlusPlus_with_ASPP_FPN_efficientnet-b7_0.ckpt' as top 1\n"
     ]
    },
    {
     "data": {
      "application/vnd.jupyter.widget-view+json": {
       "model_id": "9a1f05cfe831493ba6143e9c02abadaa",
       "version_major": 2,
       "version_minor": 0
      },
      "text/plain": [
       "Validation: 0it [00:00, ?it/s]"
      ]
     },
     "metadata": {},
     "output_type": "display_data"
    },
    {
     "name": "stderr",
     "output_type": "stream",
     "text": [
      "Epoch 67, global step 1088: 'val_dice_th' reached 0.77686 (best 0.77686), saving model to '/home/ziyang/kaggle/hubmap-organ-segmentation/notebooks/tmp/checkpoint/UnetPlusPlus_with_ASPP_FPN_efficientnet-b7_0.ckpt' as top 1\n"
     ]
    },
    {
     "data": {
      "application/vnd.jupyter.widget-view+json": {
       "model_id": "46c4655513564b6a97636a5801720a9a",
       "version_major": 2,
       "version_minor": 0
      },
      "text/plain": [
       "Validation: 0it [00:00, ?it/s]"
      ]
     },
     "metadata": {},
     "output_type": "display_data"
    },
    {
     "name": "stderr",
     "output_type": "stream",
     "text": [
      "Epoch 68, global step 1104: 'val_dice_th' reached 0.77731 (best 0.77731), saving model to '/home/ziyang/kaggle/hubmap-organ-segmentation/notebooks/tmp/checkpoint/UnetPlusPlus_with_ASPP_FPN_efficientnet-b7_0.ckpt' as top 1\n"
     ]
    },
    {
     "data": {
      "application/vnd.jupyter.widget-view+json": {
       "model_id": "fff0b2989b2344b4b2071cad2a2ecadf",
       "version_major": 2,
       "version_minor": 0
      },
      "text/plain": [
       "Validation: 0it [00:00, ?it/s]"
      ]
     },
     "metadata": {},
     "output_type": "display_data"
    },
    {
     "name": "stderr",
     "output_type": "stream",
     "text": [
      "Epoch 69, global step 1120: 'val_dice_th' reached 0.77769 (best 0.77769), saving model to '/home/ziyang/kaggle/hubmap-organ-segmentation/notebooks/tmp/checkpoint/UnetPlusPlus_with_ASPP_FPN_efficientnet-b7_0.ckpt' as top 1\n"
     ]
    },
    {
     "data": {
      "application/vnd.jupyter.widget-view+json": {
       "model_id": "3fc9e2170109447eab9a9fc0f72822af",
       "version_major": 2,
       "version_minor": 0
      },
      "text/plain": [
       "Validation: 0it [00:00, ?it/s]"
      ]
     },
     "metadata": {},
     "output_type": "display_data"
    },
    {
     "name": "stderr",
     "output_type": "stream",
     "text": [
      "Epoch 70, global step 1136: 'val_dice_th' reached 0.77814 (best 0.77814), saving model to '/home/ziyang/kaggle/hubmap-organ-segmentation/notebooks/tmp/checkpoint/UnetPlusPlus_with_ASPP_FPN_efficientnet-b7_0.ckpt' as top 1\n"
     ]
    },
    {
     "data": {
      "application/vnd.jupyter.widget-view+json": {
       "model_id": "4e63974323ab48729c33d79649ead90c",
       "version_major": 2,
       "version_minor": 0
      },
      "text/plain": [
       "Validation: 0it [00:00, ?it/s]"
      ]
     },
     "metadata": {},
     "output_type": "display_data"
    },
    {
     "name": "stderr",
     "output_type": "stream",
     "text": [
      "Epoch 71, global step 1152: 'val_dice_th' reached 0.77819 (best 0.77819), saving model to '/home/ziyang/kaggle/hubmap-organ-segmentation/notebooks/tmp/checkpoint/UnetPlusPlus_with_ASPP_FPN_efficientnet-b7_0.ckpt' as top 1\n"
     ]
    },
    {
     "data": {
      "application/vnd.jupyter.widget-view+json": {
       "model_id": "1df67cf72e4f4dc28cd60d129a56c07e",
       "version_major": 2,
       "version_minor": 0
      },
      "text/plain": [
       "Validation: 0it [00:00, ?it/s]"
      ]
     },
     "metadata": {},
     "output_type": "display_data"
    },
    {
     "name": "stderr",
     "output_type": "stream",
     "text": [
      "Epoch 72, global step 1168: 'val_dice_th' reached 0.77870 (best 0.77870), saving model to '/home/ziyang/kaggle/hubmap-organ-segmentation/notebooks/tmp/checkpoint/UnetPlusPlus_with_ASPP_FPN_efficientnet-b7_0.ckpt' as top 1\n"
     ]
    },
    {
     "data": {
      "application/vnd.jupyter.widget-view+json": {
       "model_id": "9341384d439d4cf9b684c70dc0ead50e",
       "version_major": 2,
       "version_minor": 0
      },
      "text/plain": [
       "Validation: 0it [00:00, ?it/s]"
      ]
     },
     "metadata": {},
     "output_type": "display_data"
    },
    {
     "name": "stderr",
     "output_type": "stream",
     "text": [
      "Epoch 73, global step 1184: 'val_dice_th' reached 0.77930 (best 0.77930), saving model to '/home/ziyang/kaggle/hubmap-organ-segmentation/notebooks/tmp/checkpoint/UnetPlusPlus_with_ASPP_FPN_efficientnet-b7_0.ckpt' as top 1\n"
     ]
    },
    {
     "data": {
      "application/vnd.jupyter.widget-view+json": {
       "model_id": "9f3c345ebbc041d898b755689f55acc1",
       "version_major": 2,
       "version_minor": 0
      },
      "text/plain": [
       "Validation: 0it [00:00, ?it/s]"
      ]
     },
     "metadata": {},
     "output_type": "display_data"
    },
    {
     "name": "stderr",
     "output_type": "stream",
     "text": [
      "Epoch 74, global step 1200: 'val_dice_th' reached 0.78021 (best 0.78021), saving model to '/home/ziyang/kaggle/hubmap-organ-segmentation/notebooks/tmp/checkpoint/UnetPlusPlus_with_ASPP_FPN_efficientnet-b7_0.ckpt' as top 1\n"
     ]
    },
    {
     "data": {
      "application/vnd.jupyter.widget-view+json": {
       "model_id": "070d58d09aa249599b53277d88733846",
       "version_major": 2,
       "version_minor": 0
      },
      "text/plain": [
       "Validation: 0it [00:00, ?it/s]"
      ]
     },
     "metadata": {},
     "output_type": "display_data"
    },
    {
     "name": "stderr",
     "output_type": "stream",
     "text": [
      "Epoch 75, global step 1216: 'val_dice_th' reached 0.78112 (best 0.78112), saving model to '/home/ziyang/kaggle/hubmap-organ-segmentation/notebooks/tmp/checkpoint/UnetPlusPlus_with_ASPP_FPN_efficientnet-b7_0.ckpt' as top 1\n"
     ]
    },
    {
     "data": {
      "application/vnd.jupyter.widget-view+json": {
       "model_id": "a698987948da4c3ea177155fbad5dbbc",
       "version_major": 2,
       "version_minor": 0
      },
      "text/plain": [
       "Validation: 0it [00:00, ?it/s]"
      ]
     },
     "metadata": {},
     "output_type": "display_data"
    },
    {
     "name": "stderr",
     "output_type": "stream",
     "text": [
      "Epoch 76, global step 1232: 'val_dice_th' was not in top 1\n"
     ]
    },
    {
     "data": {
      "application/vnd.jupyter.widget-view+json": {
       "model_id": "217c5a7ad29f44d4970743553d659439",
       "version_major": 2,
       "version_minor": 0
      },
      "text/plain": [
       "Validation: 0it [00:00, ?it/s]"
      ]
     },
     "metadata": {},
     "output_type": "display_data"
    },
    {
     "name": "stderr",
     "output_type": "stream",
     "text": [
      "Epoch 77, global step 1248: 'val_dice_th' reached 0.78210 (best 0.78210), saving model to '/home/ziyang/kaggle/hubmap-organ-segmentation/notebooks/tmp/checkpoint/UnetPlusPlus_with_ASPP_FPN_efficientnet-b7_0.ckpt' as top 1\n"
     ]
    },
    {
     "data": {
      "application/vnd.jupyter.widget-view+json": {
       "model_id": "f06c917755a84ac48fe5c015a59591a1",
       "version_major": 2,
       "version_minor": 0
      },
      "text/plain": [
       "Validation: 0it [00:00, ?it/s]"
      ]
     },
     "metadata": {},
     "output_type": "display_data"
    },
    {
     "name": "stderr",
     "output_type": "stream",
     "text": [
      "Epoch 78, global step 1264: 'val_dice_th' reached 0.78259 (best 0.78259), saving model to '/home/ziyang/kaggle/hubmap-organ-segmentation/notebooks/tmp/checkpoint/UnetPlusPlus_with_ASPP_FPN_efficientnet-b7_0.ckpt' as top 1\n"
     ]
    },
    {
     "data": {
      "application/vnd.jupyter.widget-view+json": {
       "model_id": "01648337389b4aad8f308900aacdb6cb",
       "version_major": 2,
       "version_minor": 0
      },
      "text/plain": [
       "Validation: 0it [00:00, ?it/s]"
      ]
     },
     "metadata": {},
     "output_type": "display_data"
    },
    {
     "name": "stderr",
     "output_type": "stream",
     "text": [
      "Epoch 79, global step 1280: 'val_dice_th' reached 0.78357 (best 0.78357), saving model to '/home/ziyang/kaggle/hubmap-organ-segmentation/notebooks/tmp/checkpoint/UnetPlusPlus_with_ASPP_FPN_efficientnet-b7_0.ckpt' as top 1\n"
     ]
    },
    {
     "data": {
      "application/vnd.jupyter.widget-view+json": {
       "model_id": "a1ad5dcf8514428b8a5dfb006323f572",
       "version_major": 2,
       "version_minor": 0
      },
      "text/plain": [
       "Validation: 0it [00:00, ?it/s]"
      ]
     },
     "metadata": {},
     "output_type": "display_data"
    },
    {
     "name": "stderr",
     "output_type": "stream",
     "text": [
      "Epoch 80, global step 1296: 'val_dice_th' was not in top 1\n"
     ]
    },
    {
     "data": {
      "application/vnd.jupyter.widget-view+json": {
       "model_id": "fc2b5a59c32347319e8669ca1c14ee2c",
       "version_major": 2,
       "version_minor": 0
      },
      "text/plain": [
       "Validation: 0it [00:00, ?it/s]"
      ]
     },
     "metadata": {},
     "output_type": "display_data"
    },
    {
     "name": "stderr",
     "output_type": "stream",
     "text": [
      "Epoch 81, global step 1312: 'val_dice_th' reached 0.78430 (best 0.78430), saving model to '/home/ziyang/kaggle/hubmap-organ-segmentation/notebooks/tmp/checkpoint/UnetPlusPlus_with_ASPP_FPN_efficientnet-b7_0.ckpt' as top 1\n"
     ]
    },
    {
     "data": {
      "application/vnd.jupyter.widget-view+json": {
       "model_id": "e70674f546384e24b7f06aa58f4f995d",
       "version_major": 2,
       "version_minor": 0
      },
      "text/plain": [
       "Validation: 0it [00:00, ?it/s]"
      ]
     },
     "metadata": {},
     "output_type": "display_data"
    },
    {
     "name": "stderr",
     "output_type": "stream",
     "text": [
      "Epoch 82, global step 1328: 'val_dice_th' reached 0.78516 (best 0.78516), saving model to '/home/ziyang/kaggle/hubmap-organ-segmentation/notebooks/tmp/checkpoint/UnetPlusPlus_with_ASPP_FPN_efficientnet-b7_0.ckpt' as top 1\n"
     ]
    },
    {
     "data": {
      "application/vnd.jupyter.widget-view+json": {
       "model_id": "cacee20f273946f99eedf53a3fc7c5c7",
       "version_major": 2,
       "version_minor": 0
      },
      "text/plain": [
       "Validation: 0it [00:00, ?it/s]"
      ]
     },
     "metadata": {},
     "output_type": "display_data"
    },
    {
     "name": "stderr",
     "output_type": "stream",
     "text": [
      "Epoch 83, global step 1344: 'val_dice_th' reached 0.78597 (best 0.78597), saving model to '/home/ziyang/kaggle/hubmap-organ-segmentation/notebooks/tmp/checkpoint/UnetPlusPlus_with_ASPP_FPN_efficientnet-b7_0.ckpt' as top 1\n"
     ]
    },
    {
     "data": {
      "application/vnd.jupyter.widget-view+json": {
       "model_id": "c2dacc4e29e7450b956911cc4f095083",
       "version_major": 2,
       "version_minor": 0
      },
      "text/plain": [
       "Validation: 0it [00:00, ?it/s]"
      ]
     },
     "metadata": {},
     "output_type": "display_data"
    },
    {
     "name": "stderr",
     "output_type": "stream",
     "text": [
      "Epoch 84, global step 1360: 'val_dice_th' reached 0.78615 (best 0.78615), saving model to '/home/ziyang/kaggle/hubmap-organ-segmentation/notebooks/tmp/checkpoint/UnetPlusPlus_with_ASPP_FPN_efficientnet-b7_0.ckpt' as top 1\n"
     ]
    },
    {
     "data": {
      "application/vnd.jupyter.widget-view+json": {
       "model_id": "2f06e81d99714b63a4e0ca9e15168208",
       "version_major": 2,
       "version_minor": 0
      },
      "text/plain": [
       "Validation: 0it [00:00, ?it/s]"
      ]
     },
     "metadata": {},
     "output_type": "display_data"
    },
    {
     "name": "stderr",
     "output_type": "stream",
     "text": [
      "Epoch 85, global step 1376: 'val_dice_th' was not in top 1\n"
     ]
    },
    {
     "data": {
      "application/vnd.jupyter.widget-view+json": {
       "model_id": "626f3236e2df4e8a890959fa8b64a33f",
       "version_major": 2,
       "version_minor": 0
      },
      "text/plain": [
       "Validation: 0it [00:00, ?it/s]"
      ]
     },
     "metadata": {},
     "output_type": "display_data"
    },
    {
     "name": "stderr",
     "output_type": "stream",
     "text": [
      "Epoch 86, global step 1392: 'val_dice_th' reached 0.78667 (best 0.78667), saving model to '/home/ziyang/kaggle/hubmap-organ-segmentation/notebooks/tmp/checkpoint/UnetPlusPlus_with_ASPP_FPN_efficientnet-b7_0.ckpt' as top 1\n"
     ]
    },
    {
     "data": {
      "application/vnd.jupyter.widget-view+json": {
       "model_id": "6a12c9d390a044929055b1da09abbeb0",
       "version_major": 2,
       "version_minor": 0
      },
      "text/plain": [
       "Validation: 0it [00:00, ?it/s]"
      ]
     },
     "metadata": {},
     "output_type": "display_data"
    },
    {
     "name": "stderr",
     "output_type": "stream",
     "text": [
      "Epoch 87, global step 1408: 'val_dice_th' reached 0.78740 (best 0.78740), saving model to '/home/ziyang/kaggle/hubmap-organ-segmentation/notebooks/tmp/checkpoint/UnetPlusPlus_with_ASPP_FPN_efficientnet-b7_0.ckpt' as top 1\n"
     ]
    },
    {
     "data": {
      "application/vnd.jupyter.widget-view+json": {
       "model_id": "7f8fd24c86904e48bc5c1c8a202d1b74",
       "version_major": 2,
       "version_minor": 0
      },
      "text/plain": [
       "Validation: 0it [00:00, ?it/s]"
      ]
     },
     "metadata": {},
     "output_type": "display_data"
    },
    {
     "name": "stderr",
     "output_type": "stream",
     "text": [
      "Epoch 88, global step 1424: 'val_dice_th' reached 0.78845 (best 0.78845), saving model to '/home/ziyang/kaggle/hubmap-organ-segmentation/notebooks/tmp/checkpoint/UnetPlusPlus_with_ASPP_FPN_efficientnet-b7_0.ckpt' as top 1\n"
     ]
    },
    {
     "data": {
      "application/vnd.jupyter.widget-view+json": {
       "model_id": "52a00eefbed041e7825a771443ed7c3a",
       "version_major": 2,
       "version_minor": 0
      },
      "text/plain": [
       "Validation: 0it [00:00, ?it/s]"
      ]
     },
     "metadata": {},
     "output_type": "display_data"
    },
    {
     "name": "stderr",
     "output_type": "stream",
     "text": [
      "Epoch 89, global step 1440: 'val_dice_th' reached 0.78883 (best 0.78883), saving model to '/home/ziyang/kaggle/hubmap-organ-segmentation/notebooks/tmp/checkpoint/UnetPlusPlus_with_ASPP_FPN_efficientnet-b7_0.ckpt' as top 1\n"
     ]
    },
    {
     "data": {
      "application/vnd.jupyter.widget-view+json": {
       "model_id": "ed378e37f7b646209b3d0e8b0c7e8484",
       "version_major": 2,
       "version_minor": 0
      },
      "text/plain": [
       "Validation: 0it [00:00, ?it/s]"
      ]
     },
     "metadata": {},
     "output_type": "display_data"
    },
    {
     "name": "stderr",
     "output_type": "stream",
     "text": [
      "Epoch 90, global step 1456: 'val_dice_th' reached 0.78934 (best 0.78934), saving model to '/home/ziyang/kaggle/hubmap-organ-segmentation/notebooks/tmp/checkpoint/UnetPlusPlus_with_ASPP_FPN_efficientnet-b7_0.ckpt' as top 1\n"
     ]
    },
    {
     "data": {
      "application/vnd.jupyter.widget-view+json": {
       "model_id": "32d958b75c0d4e868a8a7c30bdd6e8cb",
       "version_major": 2,
       "version_minor": 0
      },
      "text/plain": [
       "Validation: 0it [00:00, ?it/s]"
      ]
     },
     "metadata": {},
     "output_type": "display_data"
    },
    {
     "name": "stderr",
     "output_type": "stream",
     "text": [
      "Epoch 91, global step 1472: 'val_dice_th' reached 0.78948 (best 0.78948), saving model to '/home/ziyang/kaggle/hubmap-organ-segmentation/notebooks/tmp/checkpoint/UnetPlusPlus_with_ASPP_FPN_efficientnet-b7_0.ckpt' as top 1\n"
     ]
    },
    {
     "data": {
      "application/vnd.jupyter.widget-view+json": {
       "model_id": "feddd0e9ac0b4c94a05157d72c71e1a4",
       "version_major": 2,
       "version_minor": 0
      },
      "text/plain": [
       "Validation: 0it [00:00, ?it/s]"
      ]
     },
     "metadata": {},
     "output_type": "display_data"
    },
    {
     "name": "stderr",
     "output_type": "stream",
     "text": [
      "Epoch 92, global step 1488: 'val_dice_th' reached 0.79000 (best 0.79000), saving model to '/home/ziyang/kaggle/hubmap-organ-segmentation/notebooks/tmp/checkpoint/UnetPlusPlus_with_ASPP_FPN_efficientnet-b7_0.ckpt' as top 1\n"
     ]
    },
    {
     "data": {
      "application/vnd.jupyter.widget-view+json": {
       "model_id": "f88dd46e8a4d4a218f77963bb0309107",
       "version_major": 2,
       "version_minor": 0
      },
      "text/plain": [
       "Validation: 0it [00:00, ?it/s]"
      ]
     },
     "metadata": {},
     "output_type": "display_data"
    },
    {
     "name": "stderr",
     "output_type": "stream",
     "text": [
      "Epoch 93, global step 1504: 'val_dice_th' reached 0.79040 (best 0.79040), saving model to '/home/ziyang/kaggle/hubmap-organ-segmentation/notebooks/tmp/checkpoint/UnetPlusPlus_with_ASPP_FPN_efficientnet-b7_0.ckpt' as top 1\n"
     ]
    },
    {
     "data": {
      "application/vnd.jupyter.widget-view+json": {
       "model_id": "2110836bf1fa4cf1a91d791926c7434b",
       "version_major": 2,
       "version_minor": 0
      },
      "text/plain": [
       "Validation: 0it [00:00, ?it/s]"
      ]
     },
     "metadata": {},
     "output_type": "display_data"
    },
    {
     "name": "stderr",
     "output_type": "stream",
     "text": [
      "Epoch 94, global step 1520: 'val_dice_th' reached 0.79145 (best 0.79145), saving model to '/home/ziyang/kaggle/hubmap-organ-segmentation/notebooks/tmp/checkpoint/UnetPlusPlus_with_ASPP_FPN_efficientnet-b7_0.ckpt' as top 1\n"
     ]
    },
    {
     "data": {
      "application/vnd.jupyter.widget-view+json": {
       "model_id": "1fad1b00d40c42d0a86380bd0ad3970e",
       "version_major": 2,
       "version_minor": 0
      },
      "text/plain": [
       "Validation: 0it [00:00, ?it/s]"
      ]
     },
     "metadata": {},
     "output_type": "display_data"
    },
    {
     "name": "stderr",
     "output_type": "stream",
     "text": [
      "Epoch 95, global step 1536: 'val_dice_th' reached 0.79211 (best 0.79211), saving model to '/home/ziyang/kaggle/hubmap-organ-segmentation/notebooks/tmp/checkpoint/UnetPlusPlus_with_ASPP_FPN_efficientnet-b7_0.ckpt' as top 1\n"
     ]
    },
    {
     "data": {
      "application/vnd.jupyter.widget-view+json": {
       "model_id": "d961e16dede74b8db952e851bae5ac75",
       "version_major": 2,
       "version_minor": 0
      },
      "text/plain": [
       "Validation: 0it [00:00, ?it/s]"
      ]
     },
     "metadata": {},
     "output_type": "display_data"
    },
    {
     "name": "stderr",
     "output_type": "stream",
     "text": [
      "Epoch 96, global step 1552: 'val_dice_th' reached 0.79275 (best 0.79275), saving model to '/home/ziyang/kaggle/hubmap-organ-segmentation/notebooks/tmp/checkpoint/UnetPlusPlus_with_ASPP_FPN_efficientnet-b7_0.ckpt' as top 1\n"
     ]
    },
    {
     "data": {
      "application/vnd.jupyter.widget-view+json": {
       "model_id": "c7c60997a6e249f2a39147074ac84b58",
       "version_major": 2,
       "version_minor": 0
      },
      "text/plain": [
       "Validation: 0it [00:00, ?it/s]"
      ]
     },
     "metadata": {},
     "output_type": "display_data"
    },
    {
     "name": "stderr",
     "output_type": "stream",
     "text": [
      "Epoch 97, global step 1568: 'val_dice_th' reached 0.79382 (best 0.79382), saving model to '/home/ziyang/kaggle/hubmap-organ-segmentation/notebooks/tmp/checkpoint/UnetPlusPlus_with_ASPP_FPN_efficientnet-b7_0.ckpt' as top 1\n"
     ]
    },
    {
     "data": {
      "application/vnd.jupyter.widget-view+json": {
       "model_id": "aad85d0365bf4106895aa8c6c85f2909",
       "version_major": 2,
       "version_minor": 0
      },
      "text/plain": [
       "Validation: 0it [00:00, ?it/s]"
      ]
     },
     "metadata": {},
     "output_type": "display_data"
    },
    {
     "name": "stderr",
     "output_type": "stream",
     "text": [
      "Epoch 98, global step 1584: 'val_dice_th' reached 0.79424 (best 0.79424), saving model to '/home/ziyang/kaggle/hubmap-organ-segmentation/notebooks/tmp/checkpoint/UnetPlusPlus_with_ASPP_FPN_efficientnet-b7_0.ckpt' as top 1\n"
     ]
    },
    {
     "data": {
      "application/vnd.jupyter.widget-view+json": {
       "model_id": "f00790a1550248b5a8a554ca8f0da632",
       "version_major": 2,
       "version_minor": 0
      },
      "text/plain": [
       "Validation: 0it [00:00, ?it/s]"
      ]
     },
     "metadata": {},
     "output_type": "display_data"
    },
    {
     "name": "stderr",
     "output_type": "stream",
     "text": [
      "Epoch 99, global step 1600: 'val_dice_th' reached 0.79495 (best 0.79495), saving model to '/home/ziyang/kaggle/hubmap-organ-segmentation/notebooks/tmp/checkpoint/UnetPlusPlus_with_ASPP_FPN_efficientnet-b7_0.ckpt' as top 1\n"
     ]
    },
    {
     "data": {
      "application/vnd.jupyter.widget-view+json": {
       "model_id": "37f52f52ae9a4aad9fcd58585a0120ee",
       "version_major": 2,
       "version_minor": 0
      },
      "text/plain": [
       "Validation: 0it [00:00, ?it/s]"
      ]
     },
     "metadata": {},
     "output_type": "display_data"
    },
    {
     "name": "stderr",
     "output_type": "stream",
     "text": [
      "Epoch 100, global step 1616: 'val_dice_th' was not in top 1\n"
     ]
    },
    {
     "data": {
      "application/vnd.jupyter.widget-view+json": {
       "model_id": "6c26821bb53d4f368997354c8b9e5793",
       "version_major": 2,
       "version_minor": 0
      },
      "text/plain": [
       "Validation: 0it [00:00, ?it/s]"
      ]
     },
     "metadata": {},
     "output_type": "display_data"
    },
    {
     "name": "stderr",
     "output_type": "stream",
     "text": [
      "Epoch 101, global step 1632: 'val_dice_th' reached 0.79517 (best 0.79517), saving model to '/home/ziyang/kaggle/hubmap-organ-segmentation/notebooks/tmp/checkpoint/UnetPlusPlus_with_ASPP_FPN_efficientnet-b7_0.ckpt' as top 1\n"
     ]
    }
   ],
   "source": [
    "for fold in range(cfg_data.n_split):\n",
    "    trainer = train(cfg, fold, cfg_data.train_csv_path, cfg_data.test_csv_path)"
   ]
  },
  {
   "cell_type": "code",
   "execution_count": null,
   "metadata": {},
   "outputs": [],
   "source": [
    "import monai\n",
    "from utils import mask2rle\n",
    "@torch.no_grad()\n",
    "def create_pred_df(module, dataloader, threshold):\n",
    "    ids = []\n",
    "    rles = []\n",
    "    for batch in tqdm(dataloader):\n",
    "        id_ = batch[\"id\"].numpy()[0]\n",
    "        height = batch[\"img_height\"].numpy()[0]\n",
    "        width = batch[\"img_width\"].numpy()[0]\n",
    "        \n",
    "        images = batch[\"image\"].to(module.device)\n",
    "        outputs = module(images)[0]\n",
    "        \n",
    "        post_pred_transform = monai.transforms.Compose(\n",
    "            [\n",
    "                monai.transforms.Resize(spatial_size=(height, width), mode=\"nearest\"),\n",
    "                monai.transforms.Activations(sigmoid=True),\n",
    "                monai.transforms.AsDiscrete(threshold=threshold),\n",
    "            ]\n",
    "        )\n",
    "        \n",
    "        mask = post_pred_transform(outputs).to(torch.uint8).cpu().detach().numpy()[0]\n",
    "        \n",
    "        rle = mask2rle(mask)\n",
    "        \n",
    "        ids.append(id_)\n",
    "        rles.append(rle)\n",
    "        \n",
    "    return pd.DataFrame({\"id\": ids, \"rle\": rles})\n",
    "\n",
    "\n",
    "def infer(\n",
    "    checkpoint_path: str,\n",
    "    spatial_size: int,\n",
    "    num_workers: int,\n",
    "    device: str = 'cuda',\n",
    "    train_csv_path: str = TRAIN_PREPARED_CSV_PATH,\n",
    "    test_csv_path: str = TEST_PREPARED_CSV_PATH,\n",
    "    threshold: float = 0.5,\n",
    "):\n",
    "    module = LitModule(cfg).load_eval_checkpoint(checkpoint_path, device)\n",
    "\n",
    "    data_module = LitDataModule(\n",
    "        train_csv_path=train_csv_path,\n",
    "        test_csv_path=test_csv_path,\n",
    "        spatial_size=spatial_size,\n",
    "        val_fold=0,\n",
    "        batch_size=1,\n",
    "        num_workers=num_workers,\n",
    "    )\n",
    "    data_module.setup()\n",
    "    \n",
    "    val_dataloader = data_module.val_dataloader()\n",
    "    test_dataloader = data_module.test_dataloader()\n",
    "    \n",
    "    val_pred_df = create_pred_df(module, val_dataloader, threshold)\n",
    "    test_pred_df = create_pred_df(module, test_dataloader, threshold)\n",
    "    \n",
    "    return val_pred_df, test_pred_df"
   ]
  }
 ],
 "metadata": {
  "kernelspec": {
   "display_name": "Python 3.8.13 ('HPA')",
   "language": "python",
   "name": "python3"
  },
  "language_info": {
   "codemirror_mode": {
    "name": "ipython",
    "version": 3
   },
   "file_extension": ".py",
   "mimetype": "text/x-python",
   "name": "python",
   "nbconvert_exporter": "python",
   "pygments_lexer": "ipython3",
   "version": "3.8.13"
  },
  "orig_nbformat": 4,
  "vscode": {
   "interpreter": {
    "hash": "31f85ff0a07dcd8188192325265d1046a734f55bf63b05ef3de74f27e2a18076"
   }
  }
 },
 "nbformat": 4,
 "nbformat_minor": 2
}
