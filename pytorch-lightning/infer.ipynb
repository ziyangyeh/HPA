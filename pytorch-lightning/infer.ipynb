{
 "cells": [
  {
   "cell_type": "code",
   "execution_count": null,
   "metadata": {},
   "outputs": [],
   "source": [
    "import sys, os\n",
    "from pathlib import Path\n",
    "ROOT_DIR = Path(os.path.abspath(os.path.join(os.getcwd(), \"..\")))\n",
    "BASE_DIR = ROOT_DIR / \"pytorch-lightning\"\n",
    "sys.path.append(ROOT_DIR)\n",
    "sys.path.append(BASE_DIR)"
   ]
  },
  {
   "cell_type": "code",
   "execution_count": null,
   "metadata": {},
   "outputs": [],
   "source": [
    "import monai\n",
    "import torch\n",
    "import pandas as pd\n",
    "from sklearn.model_selection import StratifiedKFold\n",
    "from tqdm.notebook import tqdm\n",
    "\n",
    "from data import LitDataModule\n",
    "from model import LitModule\n",
    "from utils import mask2rle"
   ]
  },
  {
   "cell_type": "code",
   "execution_count": null,
   "metadata": {},
   "outputs": [],
   "source": [
    "\n",
    "@torch.no_grad()\n",
    "def create_pred_df(module, dataloader, threshold):\n",
    "    ids = []\n",
    "    rles = []\n",
    "    for batch in tqdm(dataloader):\n",
    "        id_ = batch[\"id\"].numpy()[0]\n",
    "        height = batch[\"img_height\"].numpy()[0]\n",
    "        width = batch[\"img_width\"].numpy()[0]\n",
    "        \n",
    "        images = batch[\"image\"].to(module.device)\n",
    "        outputs = module(images)[0]\n",
    "        \n",
    "        post_pred_transform = monai.transforms.Compose(\n",
    "            [\n",
    "                monai.transforms.Resize(spatial_size=(height, width), mode=\"nearest\"),\n",
    "                monai.transforms.Activations(sigmoid=True),\n",
    "                monai.transforms.AsDiscrete(threshold=threshold),\n",
    "            ]\n",
    "        )\n",
    "        \n",
    "        mask = post_pred_transform(outputs).to(torch.uint8).cpu().detach().numpy()[0]\n",
    "        \n",
    "        rle = mask2rle(mask)\n",
    "        \n",
    "        ids.append(id_)\n",
    "        rles.append(rle)\n",
    "        \n",
    "    return pd.DataFrame({\"id\": ids, \"rle\": rles})"
   ]
  },
  {
   "cell_type": "code",
   "execution_count": null,
   "metadata": {},
   "outputs": [],
   "source": [
    "def infer(\n",
    "    checkpoint_path,\n",
    "    cfg,\n",
    "    train_csv_path: str = None,\n",
    "    test_csv_path: str = None,\n",
    "    threshold: float = 0.5,\n",
    "    fold: int = 0,\n",
    "    device: str = 'cuda',\n",
    "):\n",
    "    data_module = LitDataModule(\n",
    "        val_fold=fold,\n",
    "        train_csv_path=train_csv_path,\n",
    "        test_csv_path=test_csv_path,\n",
    "        spatial_size=cfg.data.spatial_size,\n",
    "        batch_size=cfg.data.batch_size,\n",
    "        num_workers=cfg.data.num_workers,\n",
    "    )\n",
    "\n",
    "    data_module.setup()\n",
    "\n",
    "    module = LitModule(cfg).load_eval_checkpoint(checkpoint_path, device)\n",
    "    torch.save(module.state_dict(), OUTPUT_DIR / f\"{module.model.__class__.__name__}_{cfg.model.backbone}.pth\")\n",
    "\n",
    "    test_dataloader = data_module.test_dataloader()\n",
    "    test_pred_df = create_pred_df(module, test_dataloader, threshold)\n",
    "    return test_pred_df"
   ]
  },
  {
   "cell_type": "code",
   "execution_count": null,
   "metadata": {},
   "outputs": [],
   "source": [
    "INPUT_DIR = BASE_DIR / \"input\"\n",
    "OUTPUT_DIR = ROOT_DIR / \"working\"\n",
    "CONFIG_DIR = BASE_DIR / \"config\"\n",
    "\n",
    "COMPETITION_DATA_DIR = INPUT_DIR / \"hubmap-organ-segmentation\"\n",
    "\n",
    "TRAIN_PREPARED_CSV_PATH = \"train_prepared.csv\"\n",
    "VAL_PRED_PREPARED_CSV_PATH = \"val_pred_prepared.csv\"\n",
    "TEST_PREPARED_CSV_PATH = \"test_prepared.csv\"\n",
    "\n",
    "CONFIG_YAML_PATH = CONFIG_DIR / \"default.yaml\""
   ]
  },
  {
   "cell_type": "code",
   "execution_count": null,
   "metadata": {},
   "outputs": [],
   "source": [
    "def add_path_to_df(df: pd.DataFrame, data_dir: Path, type_: str, stage: str) -> pd.DataFrame:\n",
    "    ending = \".tiff\" if type_ == \"image\" else \".npy\"\n",
    "    \n",
    "    dir_ = str(data_dir / f\"{stage}_{type_}s\") if type_ == \"image\" else f\"{stage}_{type_}s\"\n",
    "    df[type_] = dir_ + \"/\" + df[\"id\"].astype(str) + ending\n",
    "    return df\n",
    "\n",
    "\n",
    "def add_paths_to_df(df: pd.DataFrame, data_dir: Path, stage: str) -> pd.DataFrame:\n",
    "    df = add_path_to_df(df, data_dir, \"image\", stage)\n",
    "    df = add_path_to_df(df, data_dir, \"mask\", stage)\n",
    "    return df\n",
    "\n",
    "\n",
    "def create_folds(df: pd.DataFrame, n_splits: int, random_seed: int) -> pd.DataFrame:\n",
    "    skf = StratifiedKFold(n_splits=n_splits, shuffle=True, random_state=random_seed)\n",
    "    for fold, (_, val_idx) in enumerate(skf.split(X=df, y=df[\"organ\"])):\n",
    "        df.loc[val_idx, \"fold\"] = fold\n",
    "\n",
    "    return df\n",
    "\n",
    "\n",
    "def prepare_data(data_dir: Path, stage: str, n_splits: int, random_seed: int) -> None:\n",
    "    df = pd.read_csv(data_dir / f\"{stage}.csv\")\n",
    "    df = add_paths_to_df(df, data_dir, stage)\n",
    "\n",
    "    if stage == \"train\":\n",
    "        df = create_folds(df, n_splits, random_seed)\n",
    "\n",
    "    filename = f\"{stage}_prepared.csv\"\n",
    "    df.to_csv(filename, index=False)\n",
    "\n",
    "    print(f\"Created {filename} with shape {df.shape}\")\n",
    "\n",
    "    return df"
   ]
  },
  {
   "cell_type": "code",
   "execution_count": null,
   "metadata": {},
   "outputs": [],
   "source": [
    "from utils import EasyConfig\n",
    "cfg = EasyConfig()\n",
    "cfg.load(CONFIG_YAML_PATH)\n",
    "cfg.data.train_csv_path = os.path.join(os.getcwd(), TRAIN_PREPARED_CSV_PATH)\n",
    "cfg.data.test_csv_path = os.path.join(os.getcwd(), TEST_PREPARED_CSV_PATH)\n",
    "\n",
    "cfg_train = cfg.train\n",
    "cfg_data = cfg.data\n",
    "cfg_model = cfg.model\n",
    "\n",
    "prepare_data(COMPETITION_DATA_DIR, \"train\", cfg_data.n_split, cfg.seed)\n",
    "prepare_data(COMPETITION_DATA_DIR, \"test\", cfg_data.n_split, cfg.seed)"
   ]
  },
  {
   "cell_type": "code",
   "execution_count": null,
   "metadata": {},
   "outputs": [],
   "source": [
    "test_pred_df = infer('tmp/checkpoint/UnetPlusPlus_with_ASPP_FPN_efficientnet-b5_2.ckpt', cfg, cfg_data.train_csv_path, cfg_data.test_csv_path)\n",
    "test_pred_df.to_csv(os.path.join(OUTPUT_DIR, \"submission.csv\"), index=False)"
   ]
  }
 ],
 "metadata": {
  "kernelspec": {
   "display_name": "Python 3.8.13 ('yzy')",
   "language": "python",
   "name": "python3"
  },
  "language_info": {
   "codemirror_mode": {
    "name": "ipython",
    "version": 3
   },
   "file_extension": ".py",
   "mimetype": "text/x-python",
   "name": "python",
   "nbconvert_exporter": "python",
   "pygments_lexer": "ipython3",
   "version": "3.8.13"
  },
  "orig_nbformat": 4,
  "vscode": {
   "interpreter": {
    "hash": "f91abce07d273583bd7a75d5496090b46b21fc7508d2a3384552f28a6b2401e5"
   }
  }
 },
 "nbformat": 4,
 "nbformat_minor": 2
}
