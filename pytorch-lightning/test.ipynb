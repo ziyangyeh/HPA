{
 "cells": [
  {
   "cell_type": "code",
   "execution_count": null,
   "metadata": {},
   "outputs": [],
   "source": [
    "import sys, os\n",
    "from pathlib import Path\n",
    "ROOT_DIR = Path(os.path.abspath(os.path.join(os.getcwd(), \"..\")))\n",
    "BASE_DIR = ROOT_DIR / \"pytorch-lightning\"\n",
    "sys.path.append(ROOT_DIR)\n",
    "sys.path.append(BASE_DIR)"
   ]
  },
  {
   "cell_type": "code",
   "execution_count": null,
   "metadata": {},
   "outputs": [],
   "source": [
    "# import pytorch_lightning.trainer.connectors.checkpoint_connector as module_to_edit\n",
    "# !code {module_to_edit.__file__}\n",
    "# https://github.com/pytorch/pytorch/issues/80809#issuecomment-1173949444"
   ]
  },
  {
   "cell_type": "code",
   "execution_count": null,
   "metadata": {},
   "outputs": [],
   "source": [
    "from typing import Any, Callable, Dict, Optional, Tuple\n",
    "\n",
    "import timm\n",
    "import torch\n",
    "import torch.nn as nn\n",
    "import pandas as pd\n",
    "import numpy as np\n",
    "\n",
    "import segmentation_models_pytorch as smp\n",
    "\n",
    "\n",
    "from sklearn.model_selection import KFold, StratifiedKFold\n",
    "from tqdm.notebook import tqdm"
   ]
  },
  {
   "cell_type": "code",
   "execution_count": null,
   "metadata": {},
   "outputs": [],
   "source": [
    "import pytorch_lightning as pl\n",
    "from pytorch_lightning.strategies import *\n",
    "from pytorch_lightning.callbacks.model_checkpoint import ModelCheckpoint\n",
    "from pytorch_lightning.loggers import WandbLogger\n",
    "from data import LitDataModule\n",
    "from model import LitModule\n",
    "\n",
    "def test(\n",
    "    cfg,\n",
    "    fold: int,\n",
    "    data_frame: pd.DataFrame,\n",
    ") -> None:\n",
    "    pl.seed_everything(cfg.seed)\n",
    "\n",
    "    data_module = LitDataModule(\n",
    "        val_fold=fold,\n",
    "        data_frame=data_frame,\n",
    "        spatial_size=cfg.data.spatial_size,\n",
    "        batch_size=cfg.data.batch_size,\n",
    "        num_workers=cfg.data.num_workers,\n",
    "    )\n",
    "\n",
    "    data_module.setup()\n",
    "\n",
    "    module = LitModule(cfg)\n",
    "\n",
    "    trainer = pl.Trainer(\n",
    "        default_root_dir=cfg.train.checkpoint_dir,\n",
    "        accelerator=cfg.train.accelerator, \n",
    "        devices=[1],\n",
    "        benchmark=True,\n",
    "        deterministic=False,\n",
    "        limit_train_batches=1.0,\n",
    "        limit_val_batches=1.0,\n",
    "        log_every_n_steps=5,\n",
    "        max_epochs=cfg.train.epochs,\n",
    "        precision=cfg.train.precision,\n",
    "        accumulate_grad_batches=cfg.data.accumulate_grad_batches,\n",
    "    )\n",
    "\n",
    "    trainer.tune(module, datamodule=data_module)\n",
    "\n",
    "    trainer.test(module, datamodule=data_module, ckpt_path=os.path.join(os.getcwd(), cfg.train.checkpoint_dir, f\"{module.model.__class__.__name__}_{cfg.model.backbone}_{cfg.data.spatial_size}_{fold}\"+\".ckpt\") if os.path.exists(os.path.join(os.getcwd(), cfg.train.checkpoint_dir, f\"{module.model.__class__.__name__}_{cfg.model.backbone}_{cfg.data.spatial_size}_{fold}\"+\".ckpt\")) else None)\n",
    "\n",
    "    torch.save(module.state_dict(), BASE_DIR / \"working\" / f\"{module.model.__class__.__name__}_{cfg.model.backbone}_{cfg.data.spatial_size}_{fold}.pth\")\n",
    "\n",
    "    return trainer"
   ]
  },
  {
   "cell_type": "code",
   "execution_count": null,
   "metadata": {},
   "outputs": [],
   "source": [
    "INPUT_DIR = BASE_DIR / \"input\"\n",
    "OUTPUT_DIR = ROOT_DIR / \"working\"\n",
    "CONFIG_DIR = BASE_DIR / \"config\"\n",
    "\n",
    "COMPETITION_DATA_DIR = INPUT_DIR / \"hubmap-organ-segmentation\"\n",
    "CROPPED_DATA_DIR = INPUT_DIR / \"mmsegmentation512x512\"\n",
    "\n",
    "CONFIG_YAML_PATH = CONFIG_DIR / \"default.yaml\""
   ]
  },
  {
   "cell_type": "code",
   "execution_count": null,
   "metadata": {},
   "outputs": [],
   "source": [
    "import glob\n",
    "import cv2\n",
    "from utils import EasyConfig\n",
    "\n",
    "cfg = EasyConfig()\n",
    "cfg.load(CONFIG_YAML_PATH)\n",
    "\n",
    "cfg_train = cfg.train\n",
    "cfg_data = cfg.data\n",
    "cfg_model = cfg.model\n",
    "\n",
    "file_list = np.unique([os.path.basename(i).split(\".\")[0] for i in glob.glob(str(CROPPED_DATA_DIR)+\"/*/*\")])\n",
    "\n",
    "df = pd.DataFrame()\n",
    "df[\"image\"] = glob.glob(str(CROPPED_DATA_DIR)+\"/train/*\")\n",
    "df[\"mask\"] = glob.glob(str(CROPPED_DATA_DIR)+\"/masks/*\")\n",
    "\n",
    "masks = []\n",
    "for i in range(len(df[\"mask\"])):\n",
    "    mask = cv2.imread(df[\"mask\"][i])\n",
    "    if mask.sum() == 0:\n",
    "        masks.append(0)\n",
    "    else:\n",
    "        masks.append(1)\n",
    "\n",
    "kf = StratifiedKFold(cfg_data.n_split, shuffle=True, random_state=cfg.seed)\n",
    "\n",
    "for fold, (_, val_idx) in enumerate(kf.split(file_list, masks)):\n",
    "    df.loc[val_idx, \"fold\"] = fold\n",
    "df.to_csv(os.path.join(str(CROPPED_DATA_DIR), \"train.csv\"), index=False)"
   ]
  },
  {
   "cell_type": "code",
   "execution_count": null,
   "metadata": {},
   "outputs": [],
   "source": [
    "import gc\n",
    "for fold in range(cfg_data.n_split):\n",
    "    trainer = test(cfg, fold, df)\n",
    "    del trainer\n",
    "    gc.collect()"
   ]
  }
 ],
 "metadata": {
  "kernelspec": {
   "display_name": "Python 3.8.13 ('yzy')",
   "language": "python",
   "name": "python3"
  },
  "language_info": {
   "codemirror_mode": {
    "name": "ipython",
    "version": 3
   },
   "file_extension": ".py",
   "mimetype": "text/x-python",
   "name": "python",
   "nbconvert_exporter": "python",
   "pygments_lexer": "ipython3",
   "version": "3.8.13"
  },
  "orig_nbformat": 4,
  "vscode": {
   "interpreter": {
    "hash": "f91abce07d273583bd7a75d5496090b46b21fc7508d2a3384552f28a6b2401e5"
   }
  }
 },
 "nbformat": 4,
 "nbformat_minor": 2
}
